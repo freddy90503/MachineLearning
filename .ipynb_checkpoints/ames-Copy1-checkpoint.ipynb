{
 "cells": [
  {
   "cell_type": "code",
   "execution_count": 25,
   "metadata": {},
   "outputs": [],
   "source": [
    "import pandas as pd\n",
    "train = pd.read_csv('data/train.csv', index_col=0)\n",
    "train.head()\n",
    "pd.options.display.max_rows = 4000"
   ]
  },
  {
   "cell_type": "code",
   "execution_count": 26,
   "metadata": {},
   "outputs": [
    {
     "data": {
      "text/plain": [
       "(1460, 80)"
      ]
     },
     "execution_count": 26,
     "metadata": {},
     "output_type": "execute_result"
    }
   ],
   "source": [
    "train.shape"
   ]
  },
  {
   "cell_type": "markdown",
   "metadata": {},
   "source": [
    "# Data cleaning rational:\n",
    "\n",
    "1. Alley    93.77% 'NA' : remove\n",
    "2. LotFrontage with 17.74% missing values:  replace with MEDIAN\n",
    "3. MasVnrType:  5% missing value : replace with 'No' because MasVnrArea = 0\n",
    "\n",
    "The following Basement 2.53% missing value is all because of no basement.\n",
    "4. BsmtQual: 2.53% replace with 'No'.\n",
    "5. BsmtCond: 2.53% replace with 'No'.\n",
    "6. BsmtFinType1:  2.53% replace with 'No'.\n",
    "7. BsmtExposure      2.60% replace with 'No'.\n",
    "\n",
    "8. Electrical: 1 missing, impute with SBrkr\tStandard Circuit Breakers & Romex\n",
    "9. FireplaceQu: 47.26% missing value, replace with 'No' because of no pool.\n",
    "\n",
    "The following garage feature with 5.55% missing value, replace with 'No'\n",
    "10. GarageType 5.55 , \n",
    "11. GarageFinish 5.55, \n",
    "12. GarageQual  5.55, \n",
    "13. GarageCond  5.55,   \n",
    "14. GarageYrBlt  5.55 ,  Fill with 0.\n",
    "\n",
    "15. Fence: 80.75% missing value, replace with 'No'\n",
    "16. MiscFeature 96.30% missing value, replace with 'No' because of MiscVal= 0\n",
    "17. PoolQC      99.52% missing value, replace with 'No' because of PoolArea = 0\n"
   ]
  },
  {
   "cell_type": "code",
   "execution_count": 27,
   "metadata": {},
   "outputs": [],
   "source": [
    "#1 drop Alley column\n",
    "train = train.drop(columns = ['Alley'])"
   ]
  },
  {
   "cell_type": "code",
   "execution_count": 28,
   "metadata": {},
   "outputs": [],
   "source": [
    "# data_crosstab = pd.crosstab(train['BsmtQual'], train['BsmtCond'], margins = False)   creating contengency table.\n",
    "# print(data_crosstab)"
   ]
  },
  {
   "cell_type": "code",
   "execution_count": 29,
   "metadata": {},
   "outputs": [],
   "source": [
    "#2. LotFrontage: fill missing value with MEAN\n",
    "train['LotFrontage'] = train['LotFrontage'].fillna(train['LotFrontage'].mean())"
   ]
  },
  {
   "cell_type": "code",
   "execution_count": 30,
   "metadata": {},
   "outputs": [],
   "source": [
    "#3. MasVnrType:  5% missing value : replace with 'No'\n",
    "train['MasVnrType'] = train['MasVnrType'].replace('None','No')"
   ]
  },
  {
   "cell_type": "code",
   "execution_count": 31,
   "metadata": {},
   "outputs": [],
   "source": [
    "#4. BsmtQual: 2.53% replace with 'No'\n",
    "#5. BsmtCond: 2.53% replace with 'No'\n",
    "#6. BsmtFinType1:  2.53% replace with 'No'\n",
    "train['BsmtQual'] = train['BsmtQual'].fillna('No')\n",
    "train['BsmtCond'] = train['BsmtCond'].fillna('No')\n",
    "train['BsmtFinType1'] = train['BsmtFinType1'].fillna('No')\n",
    "#7. BsmtExposure  2.60% replace with 'No'\n",
    "train['BsmtExposure'] = train['BsmtExposure'].fillna('No')"
   ]
  },
  {
   "cell_type": "code",
   "execution_count": 32,
   "metadata": {},
   "outputs": [],
   "source": [
    "#8. Electrical: 1 missing, impute with SBrkr\tStandard Circuit Breakers & Romex\n",
    "train['Electrical'] = train['Electrical'].fillna('SBrkr')"
   ]
  },
  {
   "cell_type": "code",
   "execution_count": 33,
   "metadata": {},
   "outputs": [],
   "source": [
    "#10. GarageType, 11. GarageFinish, 12. GarageQual, 13. GarageCond replace missing with 'No'\n",
    "train['GarageType'] = train['GarageType'].fillna('No')\n",
    "train['GarageFinish'] = train['GarageFinish'].fillna('No')\n",
    "train['GarageQual'] = train['GarageQual'].fillna('No')\n",
    "train['GarageCond'] = train['GarageCond'].fillna('No')\n",
    "\n",
    "#14. GarageYrBlt  5.55 ,  Fill with 0.\n",
    "train['GarageYrBlt'] = train['GarageYrBlt'].fillna(0)"
   ]
  },
  {
   "cell_type": "code",
   "execution_count": 34,
   "metadata": {},
   "outputs": [],
   "source": [
    "#15. Fence: 80.75% missing value, replace with 'No'\n",
    "#16. MiscFeature 96.30% missing value, replace with 'No' because of MiscVal= 0\n",
    "#17. PoolQC 99.52% missing value, replace with 'No' because of PoolArea = 0\n",
    "train['Fence'] = train['Fence'].fillna('No')\n",
    "train['MiscFeature'] = train['MiscFeature'].fillna('No')\n",
    "train['PoolQC'] = train['PoolQC'].fillna('No')"
   ]
  },
  {
   "cell_type": "code",
   "execution_count": 35,
   "metadata": {},
   "outputs": [],
   "source": [
    "import numpy as np\n",
    "import matplotlib.mlab as mlab\n",
    "import matplotlib.pyplot as plt"
   ]
  },
  {
   "cell_type": "code",
   "execution_count": 36,
   "metadata": {
    "scrolled": false
   },
   "outputs": [
    {
     "data": {
      "image/png": "[encoded data removed]",
      "text/plain": [
       "<Figure size 432x288 with 1 Axes>"
      ]
     },
     "metadata": {},
     "output_type": "display_data"
    }
   ],
   "source": [
    "#fig, axes = plt.subplots(nrows=1, ncols=3, figsize=(10, 4))\n",
    "train.plot(kind='scatter', x='GrLivArea', y='SalePrice',c='b')\n",
    "plt.show()"
   ]
  },
  {
   "cell_type": "code",
   "execution_count": 37,
   "metadata": {},
   "outputs": [],
   "source": [
    "train = train[train['GrLivArea'] < 4000]"
   ]
  },
  {
   "cell_type": "markdown",
   "metadata": {},
   "source": [
    "## Data Engineering\n",
    "\n",
    "**Univariate analysis**:\n",
    "- summarize a continuous variable : use `describe()` function\n",
    "- summarize a categorical variable we will use `value_counts()` function\n",
    "\n",
    "**Bivariate analysis and Visualization**:\n",
    "\n",
    "- Distribution of input/output variables\n",
    "- Distribution of output in each class of categorical varialbes\n",
    "- Correlations between continuous variables\n"
   ]
  },
  {
   "cell_type": "code",
   "execution_count": 38,
   "metadata": {},
   "outputs": [
    {
     "data": {
      "text/html": [
       "<div>\n",
       "<style scoped>\n",
       "    .dataframe tbody tr th:only-of-type {\n",
       "        vertical-align: middle;\n",
       "    }\n",
       "\n",
       "    .dataframe tbody tr th {\n",
       "        vertical-align: top;\n",
       "    }\n",
       "\n",
       "    .dataframe thead th {\n",
       "        text-align: right;\n",
       "    }\n",
       "</style>\n",
       "<table border=\"1\" class=\"dataframe\">\n",
       "  <thead>\n",
       "    <tr style=\"text-align: right;\">\n",
       "      <th></th>\n",
       "      <th>MSSubClass</th>\n",
       "      <th>LotFrontage</th>\n",
       "      <th>LotArea</th>\n",
       "      <th>OverallQual</th>\n",
       "      <th>OverallCond</th>\n",
       "      <th>YearBuilt</th>\n",
       "      <th>YearRemodAdd</th>\n",
       "      <th>MasVnrArea</th>\n",
       "      <th>BsmtFinSF1</th>\n",
       "      <th>BsmtFinSF2</th>\n",
       "      <th>...</th>\n",
       "      <th>WoodDeckSF</th>\n",
       "      <th>OpenPorchSF</th>\n",
       "      <th>EnclosedPorch</th>\n",
       "      <th>3SsnPorch</th>\n",
       "      <th>ScreenPorch</th>\n",
       "      <th>PoolArea</th>\n",
       "      <th>MiscVal</th>\n",
       "      <th>MoSold</th>\n",
       "      <th>YrSold</th>\n",
       "      <th>SalePrice</th>\n",
       "    </tr>\n",
       "  </thead>\n",
       "  <tbody>\n",
       "    <tr>\n",
       "      <th>count</th>\n",
       "      <td>1456.000000</td>\n",
       "      <td>1456.000000</td>\n",
       "      <td>1456.000000</td>\n",
       "      <td>1456.000000</td>\n",
       "      <td>1456.000000</td>\n",
       "      <td>1456.00000</td>\n",
       "      <td>1456.000000</td>\n",
       "      <td>1448.000000</td>\n",
       "      <td>1456.000000</td>\n",
       "      <td>1456.000000</td>\n",
       "      <td>...</td>\n",
       "      <td>1456.000000</td>\n",
       "      <td>1456.000000</td>\n",
       "      <td>1456.000000</td>\n",
       "      <td>1456.000000</td>\n",
       "      <td>1456.000000</td>\n",
       "      <td>1456.000000</td>\n",
       "      <td>1456.000000</td>\n",
       "      <td>1456.000000</td>\n",
       "      <td>1456.000000</td>\n",
       "      <td>1456.000000</td>\n",
       "    </tr>\n",
       "    <tr>\n",
       "      <th>mean</th>\n",
       "      <td>56.888736</td>\n",
       "      <td>69.756826</td>\n",
       "      <td>10448.784341</td>\n",
       "      <td>6.088599</td>\n",
       "      <td>5.576236</td>\n",
       "      <td>1971.18544</td>\n",
       "      <td>1984.819368</td>\n",
       "      <td>102.087707</td>\n",
       "      <td>436.991071</td>\n",
       "      <td>46.677198</td>\n",
       "      <td>...</td>\n",
       "      <td>93.833791</td>\n",
       "      <td>46.221154</td>\n",
       "      <td>22.014423</td>\n",
       "      <td>3.418956</td>\n",
       "      <td>15.102335</td>\n",
       "      <td>2.055632</td>\n",
       "      <td>43.608516</td>\n",
       "      <td>6.326236</td>\n",
       "      <td>2007.817308</td>\n",
       "      <td>180151.233516</td>\n",
       "    </tr>\n",
       "    <tr>\n",
       "      <th>std</th>\n",
       "      <td>42.358363</td>\n",
       "      <td>20.902515</td>\n",
       "      <td>9860.763449</td>\n",
       "      <td>1.369669</td>\n",
       "      <td>1.113966</td>\n",
       "      <td>30.20159</td>\n",
       "      <td>20.652143</td>\n",
       "      <td>177.338930</td>\n",
       "      <td>430.255052</td>\n",
       "      <td>161.522376</td>\n",
       "      <td>...</td>\n",
       "      <td>125.192349</td>\n",
       "      <td>65.352424</td>\n",
       "      <td>61.192248</td>\n",
       "      <td>29.357056</td>\n",
       "      <td>55.828405</td>\n",
       "      <td>35.383772</td>\n",
       "      <td>496.799265</td>\n",
       "      <td>2.698356</td>\n",
       "      <td>1.329394</td>\n",
       "      <td>76696.592530</td>\n",
       "    </tr>\n",
       "    <tr>\n",
       "      <th>min</th>\n",
       "      <td>20.000000</td>\n",
       "      <td>21.000000</td>\n",
       "      <td>1300.000000</td>\n",
       "      <td>1.000000</td>\n",
       "      <td>1.000000</td>\n",
       "      <td>1872.00000</td>\n",
       "      <td>1950.000000</td>\n",
       "      <td>0.000000</td>\n",
       "      <td>0.000000</td>\n",
       "      <td>0.000000</td>\n",
       "      <td>...</td>\n",
       "      <td>0.000000</td>\n",
       "      <td>0.000000</td>\n",
       "      <td>0.000000</td>\n",
       "      <td>0.000000</td>\n",
       "      <td>0.000000</td>\n",
       "      <td>0.000000</td>\n",
       "      <td>0.000000</td>\n",
       "      <td>1.000000</td>\n",
       "      <td>2006.000000</td>\n",
       "      <td>34900.000000</td>\n",
       "    </tr>\n",
       "    <tr>\n",
       "      <th>25%</th>\n",
       "      <td>20.000000</td>\n",
       "      <td>60.000000</td>\n",
       "      <td>7538.750000</td>\n",
       "      <td>5.000000</td>\n",
       "      <td>5.000000</td>\n",
       "      <td>1954.00000</td>\n",
       "      <td>1966.750000</td>\n",
       "      <td>0.000000</td>\n",
       "      <td>0.000000</td>\n",
       "      <td>0.000000</td>\n",
       "      <td>...</td>\n",
       "      <td>0.000000</td>\n",
       "      <td>0.000000</td>\n",
       "      <td>0.000000</td>\n",
       "      <td>0.000000</td>\n",
       "      <td>0.000000</td>\n",
       "      <td>0.000000</td>\n",
       "      <td>0.000000</td>\n",
       "      <td>5.000000</td>\n",
       "      <td>2007.000000</td>\n",
       "      <td>129900.000000</td>\n",
       "    </tr>\n",
       "    <tr>\n",
       "      <th>50%</th>\n",
       "      <td>50.000000</td>\n",
       "      <td>70.049958</td>\n",
       "      <td>9468.500000</td>\n",
       "      <td>6.000000</td>\n",
       "      <td>5.000000</td>\n",
       "      <td>1972.00000</td>\n",
       "      <td>1993.500000</td>\n",
       "      <td>0.000000</td>\n",
       "      <td>381.000000</td>\n",
       "      <td>0.000000</td>\n",
       "      <td>...</td>\n",
       "      <td>0.000000</td>\n",
       "      <td>24.000000</td>\n",
       "      <td>0.000000</td>\n",
       "      <td>0.000000</td>\n",
       "      <td>0.000000</td>\n",
       "      <td>0.000000</td>\n",
       "      <td>0.000000</td>\n",
       "      <td>6.000000</td>\n",
       "      <td>2008.000000</td>\n",
       "      <td>163000.000000</td>\n",
       "    </tr>\n",
       "    <tr>\n",
       "      <th>75%</th>\n",
       "      <td>70.000000</td>\n",
       "      <td>79.000000</td>\n",
       "      <td>11588.000000</td>\n",
       "      <td>7.000000</td>\n",
       "      <td>6.000000</td>\n",
       "      <td>2000.00000</td>\n",
       "      <td>2004.000000</td>\n",
       "      <td>164.250000</td>\n",
       "      <td>706.500000</td>\n",
       "      <td>0.000000</td>\n",
       "      <td>...</td>\n",
       "      <td>168.000000</td>\n",
       "      <td>68.000000</td>\n",
       "      <td>0.000000</td>\n",
       "      <td>0.000000</td>\n",
       "      <td>0.000000</td>\n",
       "      <td>0.000000</td>\n",
       "      <td>0.000000</td>\n",
       "      <td>8.000000</td>\n",
       "      <td>2009.000000</td>\n",
       "      <td>214000.000000</td>\n",
       "    </tr>\n",
       "    <tr>\n",
       "      <th>max</th>\n",
       "      <td>190.000000</td>\n",
       "      <td>313.000000</td>\n",
       "      <td>215245.000000</td>\n",
       "      <td>10.000000</td>\n",
       "      <td>9.000000</td>\n",
       "      <td>2010.00000</td>\n",
       "      <td>2010.000000</td>\n",
       "      <td>1600.000000</td>\n",
       "      <td>2188.000000</td>\n",
       "      <td>1474.000000</td>\n",
       "      <td>...</td>\n",
       "      <td>857.000000</td>\n",
       "      <td>547.000000</td>\n",
       "      <td>552.000000</td>\n",
       "      <td>508.000000</td>\n",
       "      <td>480.000000</td>\n",
       "      <td>738.000000</td>\n",
       "      <td>15500.000000</td>\n",
       "      <td>12.000000</td>\n",
       "      <td>2010.000000</td>\n",
       "      <td>625000.000000</td>\n",
       "    </tr>\n",
       "  </tbody>\n",
       "</table>\n",
       "<p>8 rows × 37 columns</p>\n",
       "</div>"
      ],
      "text/plain": [
       "        MSSubClass  LotFrontage        LotArea  OverallQual  OverallCond  \\\n",
       "count  1456.000000  1456.000000    1456.000000  1456.000000  1456.000000   \n",
       "mean     56.888736    69.756826   10448.784341     6.088599     5.576236   \n",
       "std      42.358363    20.902515    9860.763449     1.369669     1.113966   \n",
       "min      20.000000    21.000000    1300.000000     1.000000     1.000000   \n",
       "25%      20.000000    60.000000    7538.750000     5.000000     5.000000   \n",
       "50%      50.000000    70.049958    9468.500000     6.000000     5.000000   \n",
       "75%      70.000000    79.000000   11588.000000     7.000000     6.000000   \n",
       "max     190.000000   313.000000  215245.000000    10.000000     9.000000   \n",
       "\n",
       "        YearBuilt  YearRemodAdd   MasVnrArea   BsmtFinSF1   BsmtFinSF2  ...  \\\n",
       "count  1456.00000   1456.000000  1448.000000  1456.000000  1456.000000  ...   \n",
       "mean   1971.18544   1984.819368   102.087707   436.991071    46.677198  ...   \n",
       "std      30.20159     20.652143   177.338930   430.255052   161.522376  ...   \n",
       "min    1872.00000   1950.000000     0.000000     0.000000     0.000000  ...   \n",
       "25%    1954.00000   1966.750000     0.000000     0.000000     0.000000  ...   \n",
       "50%    1972.00000   1993.500000     0.000000   381.000000     0.000000  ...   \n",
       "75%    2000.00000   2004.000000   164.250000   706.500000     0.000000  ...   \n",
       "max    2010.00000   2010.000000  1600.000000  2188.000000  1474.000000  ...   \n",
       "\n",
       "        WoodDeckSF  OpenPorchSF  EnclosedPorch    3SsnPorch  ScreenPorch  \\\n",
       "count  1456.000000  1456.000000    1456.000000  1456.000000  1456.000000   \n",
       "mean     93.833791    46.221154      22.014423     3.418956    15.102335   \n",
       "std     125.192349    65.352424      61.192248    29.357056    55.828405   \n",
       "min       0.000000     0.000000       0.000000     0.000000     0.000000   \n",
       "25%       0.000000     0.000000       0.000000     0.000000     0.000000   \n",
       "50%       0.000000    24.000000       0.000000     0.000000     0.000000   \n",
       "75%     168.000000    68.000000       0.000000     0.000000     0.000000   \n",
       "max     857.000000   547.000000     552.000000   508.000000   480.000000   \n",
       "\n",
       "          PoolArea       MiscVal       MoSold       YrSold      SalePrice  \n",
       "count  1456.000000   1456.000000  1456.000000  1456.000000    1456.000000  \n",
       "mean      2.055632     43.608516     6.326236  2007.817308  180151.233516  \n",
       "std      35.383772    496.799265     2.698356     1.329394   76696.592530  \n",
       "min       0.000000      0.000000     1.000000  2006.000000   34900.000000  \n",
       "25%       0.000000      0.000000     5.000000  2007.000000  129900.000000  \n",
       "50%       0.000000      0.000000     6.000000  2008.000000  163000.000000  \n",
       "75%       0.000000      0.000000     8.000000  2009.000000  214000.000000  \n",
       "max     738.000000  15500.000000    12.000000  2010.000000  625000.000000  \n",
       "\n",
       "[8 rows x 37 columns]"
      ]
     },
     "execution_count": 38,
     "metadata": {},
     "output_type": "execute_result"
    }
   ],
   "source": [
    "train.describe()"
   ]
  },
  {
   "cell_type": "code",
   "execution_count": 39,
   "metadata": {},
   "outputs": [],
   "source": [
    "y = pd.Series(train['SalePrice'])"
   ]
  },
  {
   "cell_type": "code",
   "execution_count": 40,
   "metadata": {
    "scrolled": true
   },
   "outputs": [],
   "source": [
    "#histgram for saleprice\n",
    "# fig = plt.figure(figsize=(10,6))\n",
    "# plt.ylabel('frequency')\n",
    "# plt.xlabel('SalePrice')\n",
    "# plt.title('Histogram of SalePrice')\n",
    "# y.hist(bins=100)\n",
    "# plt.show()"
   ]
  },
  {
   "cell_type": "code",
   "execution_count": 41,
   "metadata": {
    "scrolled": false
   },
   "outputs": [],
   "source": [
    "# for variable in numeric_V: \n",
    "#     train.plot(kind='scatter', x= variable, y='SalePrice',c='b')\n",
    "#     plt.show()"
   ]
  },
  {
   "cell_type": "markdown",
   "metadata": {},
   "source": [
    "**Data Engineering Process**\n",
    "1. keep: \"GrLivArea\", remove: \"1stFlrSF\" , \"2ndFlrSF\" , \"LowQualFinSF\"   \n",
    "   notes: a. \"GrLivArea\" is the total of the three b. GrLivArea shows strong linear relationship with SalePrice.\n",
    "2. create a new column:  \"Baths\" = \"FullBath\"*4 + \"HalfBath\"*2 + \"BsmtFullBath\"*1 + \"BsmtHalfBath\"*0.5 \n",
    "3. keep: \"TotalBsmtSF\", remove:  \"BsmtFinSF1\", \"BsmtFinSF2\", \"BsmtUnfSF\"   "
   ]
  },
  {
   "cell_type": "code",
   "execution_count": 42,
   "metadata": {},
   "outputs": [],
   "source": [
    "train = train.drop(columns = ['1stFlrSF', '2ndFlrSF', 'LowQualFinSF'])"
   ]
  },
  {
   "cell_type": "code",
   "execution_count": 43,
   "metadata": {},
   "outputs": [],
   "source": [
    "train['Baths'] = 4*train['FullBath'] + 2*train['HalfBath'] + 1*train['BsmtFullBath'] + 0.5*train['BsmtHalfBath']\n",
    "train = train.drop(columns = ['FullBath', 'HalfBath', 'BsmtFullBath', 'BsmtHalfBath'])"
   ]
  },
  {
   "cell_type": "code",
   "execution_count": 44,
   "metadata": {},
   "outputs": [],
   "source": [
    "train = train.drop(columns = ['BsmtFinSF1', 'BsmtFinSF2', 'BsmtUnfSF'])"
   ]
  },
  {
   "cell_type": "markdown",
   "metadata": {},
   "source": [
    "4. keep: \"BsmtFinType1\", remove: \"BsmtFinType2\"\n",
    "5. keep: \"Condition1\", remove \"Condition2\" \n",
    "6. keep: \"YearBuilt\" & \"YearRemod\" (Check with Lasso then drop it before Elastic Net or Not\n",
    "7. remove:  \"Heating\""
   ]
  },
  {
   "cell_type": "code",
   "execution_count": 45,
   "metadata": {},
   "outputs": [],
   "source": [
    "train = train.drop(columns = ['BsmtFinType2', 'Condition2', 'Heating'])"
   ]
  },
  {
   "cell_type": "markdown",
   "metadata": {},
   "source": [
    "8. remove: Utilities == 'NoSewer' obeservation ( index = 945 ) \n",
    "   remove: Unility column\n",
    "9. keep: \"GarageCars\", remove \"GarageArea\" \n",
    "10. keep: \"GarageQual\",  Remove \"GarageCond\"\n",
    "11. remove: \"GarageYrBlt\", only 371 out of 1460 garages were built after the house was built. \n",
    "    the difference does not affect much of house price."
   ]
  },
  {
   "cell_type": "code",
   "execution_count": 46,
   "metadata": {},
   "outputs": [],
   "source": [
    "train = train[train['Utilities'] != 'NoSeWa']\n",
    "train = train.drop(columns = ['Utilities', 'GarageArea', 'GarageCond', 'GarageYrBlt'])"
   ]
  },
  {
   "cell_type": "markdown",
   "metadata": {},
   "source": [
    "12. create a new column: \"Porch.Agg\" = 1*\"EnclosedPorch\" + 1*\"3SsnPorch\" + 0.8*\"ScreenPorch\" + 0.6*\"OpenPorchSF\" + 0.5*\"WoodDeckSF\"\n",
    "    (Rescale the multipliers later and check the relationship between Porch.Agg and SalePrice)\n",
    "13. remove:  \"PoolQC\" due to almost every obs is None\n",
    "14. remove:  \"MiscFeature\" but keep the \"MiscVal\"\n",
    "15. Should Check MoSold and YearSold to determine whether to integrate or not"
   ]
  },
  {
   "cell_type": "code",
   "execution_count": 47,
   "metadata": {},
   "outputs": [],
   "source": [
    "train['PorchAgg'] = 1*train['EnclosedPorch'] + 1*train['3SsnPorch'] + 0.8*train['ScreenPorch'] + 0.6*train['OpenPorchSF'] + 0.5*train['WoodDeckSF']\n",
    "train = train.drop(columns = ['EnclosedPorch', '3SsnPorch', 'ScreenPorch', 'OpenPorchSF', 'WoodDeckSF'])\n",
    "train = train.drop(columns = ['PoolQC', 'MiscFeature'])\n"
   ]
  },
  {
   "cell_type": "code",
   "execution_count": 48,
   "metadata": {},
   "outputs": [
    {
     "data": {
      "text/plain": [
       "(1455, 57)"
      ]
     },
     "execution_count": 48,
     "metadata": {},
     "output_type": "execute_result"
    }
   ],
   "source": [
    "train.shape"
   ]
  },
  {
   "cell_type": "code",
   "execution_count": null,
   "metadata": {},
   "outputs": [],
   "source": []
  }
 ],
 "metadata": {
  "kernelspec": {
   "display_name": "Python 3",
   "language": "python",
   "name": "python3"
  },
  "language_info": {
   "codemirror_mode": {
    "name": "ipython",
    "version": 3
   },
   "file_extension": ".py",
   "mimetype": "text/x-python",
   "name": "python",
   "nbconvert_exporter": "python",
   "pygments_lexer": "ipython3",
   "version": "3.6.5"
  }
 },
 "nbformat": 4,
 "nbformat_minor": 1
}

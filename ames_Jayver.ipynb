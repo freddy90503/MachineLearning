{
 "cells": [
  {
   "cell_type": "markdown",
   "metadata": {},
   "source": [
    "# Iowa Ames House Price Project"
   ]
  },
  {
   "cell_type": "markdown",
   "metadata": {},
   "source": [
    "# Load the dataset"
   ]
  },
  {
   "cell_type": "code",
   "execution_count": 1436,
   "metadata": {},
   "outputs": [
    {
     "data": {
      "text/html": [
       "<style>.container { width:100% !important; }</style>"
      ],
      "text/plain": [
       "<IPython.core.display.HTML object>"
      ]
     },
     "metadata": {},
     "output_type": "display_data"
    }
   ],
   "source": [
    "import pandas as pd\n",
    "from IPython.core.display import display, HTML\n",
    "import warnings\n",
    "\n",
    "pd.options.display.max_rows = 4000\n",
    "pd.options.display.max_columns = 4000\n",
    "display(HTML(\"<style>.container { width:100% !important; }</style>\"))\n",
    "warnings.filterwarnings('ignore')"
   ]
  },
  {
   "cell_type": "code",
   "execution_count": 1435,
   "metadata": {
    "scrolled": false
   },
   "outputs": [],
   "source": [
    "train = pd.read_csv('data/train.csv', index_col=0)\n",
    "test = pd.read_csv('data/test.csv', index_col=0)\n",
    "train = train.reset_index()"
   ]
  },
  {
   "cell_type": "markdown",
   "metadata": {},
   "source": [
    "##  Dataset summary:\n",
    "\n",
    "1. 1460 oberservations, 79 valriables + 1 SalePrice\n",
    "\n",
    "2. 20 continuous variables relate to various area dimensions for each observation. \n",
    "\n",
    "   'LotFrontage','LotArea','MasVnrArea','TotalBsmtSF', 'GrLivArea','PoolArea', 'MiscVal', 'PorchAgg',\n",
    "\n",
    "3. 14 discrete variables typically quantify the number of items occurring within the house.\n",
    "   'YearBuilt', 'YearRemodAdd', 'BedroomAbvGr', 'KitchenAbvGr','TotRmsAbvGrd','Fireplaces', 'GarageCars', 'MoSold', 'YrSold'\n",
    "\n",
    "4. 23 nominal categorical variables:\n",
    "   'MSSubClass', 'MSZoning', 'Street', 'LotShape', 'LandContour', 'LotConfig', 'LandSlope'\n",
    "    ,'Neighborhood', 'BldgType', 'HouseStyle', 'RoofStyle', 'RoofMatl', 'Exterior1st',' Exterior2nd', 'MasVnrType', 'Foundation', 'BsmtExposure', 'Electrical', 'GarageType', 'SaleType']\n",
    "\n",
    "5. 23 nominal categorical variables:\n",
    "   'Condition1', 'OverallQual', 'OverallCond', 'ExterQual','ExterCond', 'BsmtQual', 'BsmtCond'\n",
    "                , 'BsmtFinType1', 'HeatingQC','CentralAir', 'KitchenQual', 'Functional', 'FireplaceQu', \n",
    "                'GarageFinish', 'GarageQual', 'PavedDrive', 'Fence', 'SaleCondition','Baths'\n"
   ]
  },
  {
   "cell_type": "markdown",
   "metadata": {},
   "source": [
    "# Data cleaning rational:\n",
    "\n",
    "1. Alley    93.77% 'NA' : remove\n",
    "2. LotFrontage with 17.74% missing values:  replace with MEDIAN\n",
    "3. MasVnrType:  5% missing value : replace with 'No' because MasVnrArea = 0\n",
    "\n",
    "The following Basement 2.53% missing value is all because of no basement.\n",
    "4. BsmtQual: 2.53% replace with 'No'.\n",
    "5. BsmtCond: 2.53% replace with 'No'.\n",
    "6. BsmtFinType1:  2.53% replace with 'No'.\n",
    "7. BsmtExposure      2.60% replace with 'No'.\n",
    "\n",
    "8. Electrical: 1 missing, impute with SBrkr\tStandard Circuit Breakers & Romex\n",
    "9. FireplaceQu: 47.26% missing value, replace with 'No' because of no pool.\n",
    "\n",
    "The following garage feature with 5.55% missing value, replace with 'No'\n",
    "10. GarageType 5.55 , \n",
    "11. GarageFinish 5.55, \n",
    "12. GarageQual  5.55, \n",
    "13. GarageCond  5.55,   \n",
    "14. GarageYrBlt  5.55 ,  Fill with 0.\n",
    "\n",
    "15. Fence: 80.75% missing value, replace with 'No'\n",
    "16. MiscFeature 96.30% missing value, replace with 'No' because of MiscVal= 0\n",
    "17. PoolQC      99.52% missing value, replace with 'No' because of PoolArea = 0\n"
   ]
  },
  {
   "cell_type": "code",
   "execution_count": 1199,
   "metadata": {
    "scrolled": true
   },
   "outputs": [
    {
     "data": {
      "text/plain": [
       "Id                0.00\n",
       "MSSubClass        0.00\n",
       "MSZoning          0.00\n",
       "LotFrontage      17.74\n",
       "LotArea           0.00\n",
       "Street            0.00\n",
       "Alley            93.77\n",
       "LotShape          0.00\n",
       "LandContour       0.00\n",
       "Utilities         0.00\n",
       "LotConfig         0.00\n",
       "LandSlope         0.00\n",
       "Neighborhood      0.00\n",
       "Condition1        0.00\n",
       "Condition2        0.00\n",
       "BldgType          0.00\n",
       "HouseStyle        0.00\n",
       "OverallQual       0.00\n",
       "OverallCond       0.00\n",
       "YearBuilt         0.00\n",
       "YearRemodAdd      0.00\n",
       "RoofStyle         0.00\n",
       "RoofMatl          0.00\n",
       "Exterior1st       0.00\n",
       "Exterior2nd       0.00\n",
       "MasVnrType        0.55\n",
       "MasVnrArea        0.55\n",
       "ExterQual         0.00\n",
       "ExterCond         0.00\n",
       "Foundation        0.00\n",
       "BsmtQual          2.53\n",
       "BsmtCond          2.53\n",
       "BsmtExposure      2.60\n",
       "BsmtFinType1      2.53\n",
       "BsmtFinSF1        0.00\n",
       "BsmtFinType2      2.60\n",
       "BsmtFinSF2        0.00\n",
       "BsmtUnfSF         0.00\n",
       "TotalBsmtSF       0.00\n",
       "Heating           0.00\n",
       "HeatingQC         0.00\n",
       "CentralAir        0.00\n",
       "Electrical        0.07\n",
       "1stFlrSF          0.00\n",
       "2ndFlrSF          0.00\n",
       "LowQualFinSF      0.00\n",
       "GrLivArea         0.00\n",
       "BsmtFullBath      0.00\n",
       "BsmtHalfBath      0.00\n",
       "FullBath          0.00\n",
       "HalfBath          0.00\n",
       "BedroomAbvGr      0.00\n",
       "KitchenAbvGr      0.00\n",
       "KitchenQual       0.00\n",
       "TotRmsAbvGrd      0.00\n",
       "Functional        0.00\n",
       "Fireplaces        0.00\n",
       "FireplaceQu      47.26\n",
       "GarageType        5.55\n",
       "GarageYrBlt       5.55\n",
       "GarageFinish      5.55\n",
       "GarageCars        0.00\n",
       "GarageArea        0.00\n",
       "GarageQual        5.55\n",
       "GarageCond        5.55\n",
       "PavedDrive        0.00\n",
       "WoodDeckSF        0.00\n",
       "OpenPorchSF       0.00\n",
       "EnclosedPorch     0.00\n",
       "3SsnPorch         0.00\n",
       "ScreenPorch       0.00\n",
       "PoolArea          0.00\n",
       "PoolQC           99.52\n",
       "Fence            80.75\n",
       "MiscFeature      96.30\n",
       "MiscVal           0.00\n",
       "MoSold            0.00\n",
       "YrSold            0.00\n",
       "SaleType          0.00\n",
       "SaleCondition     0.00\n",
       "SalePrice         0.00\n",
       "dtype: float64"
      ]
     },
     "execution_count": 1199,
     "metadata": {},
     "output_type": "execute_result"
    }
   ],
   "source": [
    "train.isna().mean().round(4)*100"
   ]
  },
  {
   "cell_type": "code",
   "execution_count": 1191,
   "metadata": {},
   "outputs": [],
   "source": [
    "import numpy as np\n",
    "import matplotlib.mlab as mlab\n",
    "import matplotlib.pyplot as plt"
   ]
  },
  {
   "cell_type": "code",
   "execution_count": 59,
   "metadata": {
    "scrolled": true
   },
   "outputs": [
    {
     "data": {
      "text/plain": [
       "array([[<matplotlib.axes._subplots.AxesSubplot object at 0x000001845AE956A0>,\n",
       "        <matplotlib.axes._subplots.AxesSubplot object at 0x000001845AEA7EF0>,\n",
       "        <matplotlib.axes._subplots.AxesSubplot object at 0x000001845AED3390>,\n",
       "        <matplotlib.axes._subplots.AxesSubplot object at 0x000001845AB3D5F8>,\n",
       "        <matplotlib.axes._subplots.AxesSubplot object at 0x000001845AB57860>],\n",
       "       [<matplotlib.axes._subplots.AxesSubplot object at 0x000001845AB73AC8>,\n",
       "        <matplotlib.axes._subplots.AxesSubplot object at 0x000001845AB92D30>,\n",
       "        <matplotlib.axes._subplots.AxesSubplot object at 0x000001845ABAFFD0>,\n",
       "        <matplotlib.axes._subplots.AxesSubplot object at 0x000001845ABB6048>,\n",
       "        <matplotlib.axes._subplots.AxesSubplot object at 0x000001845ABF24A8>],\n",
       "       [<matplotlib.axes._subplots.AxesSubplot object at 0x000001845AC10710>,\n",
       "        <matplotlib.axes._subplots.AxesSubplot object at 0x000001845AC2D978>,\n",
       "        <matplotlib.axes._subplots.AxesSubplot object at 0x000001845AC4CBE0>,\n",
       "        <matplotlib.axes._subplots.AxesSubplot object at 0x000001845AC6CE48>,\n",
       "        <matplotlib.axes._subplots.AxesSubplot object at 0x000001845AC900F0>],\n",
       "       [<matplotlib.axes._subplots.AxesSubplot object at 0x000001845ACAF358>,\n",
       "        <matplotlib.axes._subplots.AxesSubplot object at 0x000001845ACDA5C0>,\n",
       "        <matplotlib.axes._subplots.AxesSubplot object at 0x000001845AD00828>,\n",
       "        <matplotlib.axes._subplots.AxesSubplot object at 0x000001845AD26A90>,\n",
       "        <matplotlib.axes._subplots.AxesSubplot object at 0x000001845AD50CF8>],\n",
       "       [<matplotlib.axes._subplots.AxesSubplot object at 0x000001845AD7BF60>,\n",
       "        <matplotlib.axes._subplots.AxesSubplot object at 0x000001845ADAD208>,\n",
       "        <matplotlib.axes._subplots.AxesSubplot object at 0x000001845ADD5470>,\n",
       "        <matplotlib.axes._subplots.AxesSubplot object at 0x000001845ADFC6D8>,\n",
       "        <matplotlib.axes._subplots.AxesSubplot object at 0x000001845AE25940>],\n",
       "       [<matplotlib.axes._subplots.AxesSubplot object at 0x000001845AEFFBA8>,\n",
       "        <matplotlib.axes._subplots.AxesSubplot object at 0x000001845AF27E10>,\n",
       "        <matplotlib.axes._subplots.AxesSubplot object at 0x000001845AF5B0B8>,\n",
       "        <matplotlib.axes._subplots.AxesSubplot object at 0x000001845AF81320>,\n",
       "        <matplotlib.axes._subplots.AxesSubplot object at 0x000001845AFAB588>]],\n",
       "      dtype=object)"
      ]
     },
     "execution_count": 59,
     "metadata": {},
     "output_type": "execute_result"
    },
    {
     "data": {
      "image/png": "[encoded data removed]",
      "text/plain": [
       "<Figure size 1440x1080 with 30 Axes>"
      ]
     },
     "metadata": {
      "needs_background": "light"
     },
     "output_type": "display_data"
    }
   ],
   "source": [
    "train.hist(bins=50, figsize=(20,15))"
   ]
  },
  {
   "cell_type": "code",
   "execution_count": 214,
   "metadata": {},
   "outputs": [
    {
     "data": {
      "image/png": "[encoded data removed]",
      "text/plain": [
       "<Figure size 432x288 with 1 Axes>"
      ]
     },
     "metadata": {
      "needs_background": "light"
     },
     "output_type": "display_data"
    }
   ],
   "source": [
    "train.plot(kind='scatter', x='GrLivArea', y='SalePrice',c='b')\n",
    "plt.show()"
   ]
  },
  {
   "cell_type": "code",
   "execution_count": 62,
   "metadata": {},
   "outputs": [],
   "source": [
    "# remove outliers: GrLivArea above 4000 Square Feet\n",
    "# train = train[train['GrLivArea'] < 4000]"
   ]
  },
  {
   "cell_type": "markdown",
   "metadata": {},
   "source": [
    "**Descriptive Statistics**\n",
    "\n",
    "- Check the descriptive statistics of the numerical columns\n",
    "- Output the count distribution of each categorical feature"
   ]
  },
  {
   "cell_type": "code",
   "execution_count": 695,
   "metadata": {
    "scrolled": true
   },
   "outputs": [
    {
     "data": {
      "text/html": [
       "<div>\n",
       "<style scoped>\n",
       "    .dataframe tbody tr th:only-of-type {\n",
       "        vertical-align: middle;\n",
       "    }\n",
       "\n",
       "    .dataframe tbody tr th {\n",
       "        vertical-align: top;\n",
       "    }\n",
       "\n",
       "    .dataframe thead th {\n",
       "        text-align: right;\n",
       "    }\n",
       "</style>\n",
       "<table border=\"1\" class=\"dataframe\">\n",
       "  <thead>\n",
       "    <tr style=\"text-align: right;\">\n",
       "      <th></th>\n",
       "      <th>MSSubClass</th>\n",
       "      <th>LotFrontage</th>\n",
       "      <th>LotArea</th>\n",
       "      <th>OverallQual</th>\n",
       "      <th>OverallCond</th>\n",
       "      <th>YearBuilt</th>\n",
       "      <th>YearRemodAdd</th>\n",
       "      <th>MasVnrArea</th>\n",
       "      <th>BsmtFinSF1</th>\n",
       "      <th>BsmtFinSF2</th>\n",
       "      <th>BsmtUnfSF</th>\n",
       "      <th>TotalBsmtSF</th>\n",
       "      <th>1stFlrSF</th>\n",
       "      <th>2ndFlrSF</th>\n",
       "      <th>LowQualFinSF</th>\n",
       "      <th>GrLivArea</th>\n",
       "      <th>BsmtFullBath</th>\n",
       "      <th>BsmtHalfBath</th>\n",
       "      <th>FullBath</th>\n",
       "      <th>HalfBath</th>\n",
       "      <th>BedroomAbvGr</th>\n",
       "      <th>KitchenAbvGr</th>\n",
       "      <th>TotRmsAbvGrd</th>\n",
       "      <th>Fireplaces</th>\n",
       "      <th>GarageYrBlt</th>\n",
       "      <th>GarageCars</th>\n",
       "      <th>GarageArea</th>\n",
       "      <th>WoodDeckSF</th>\n",
       "      <th>OpenPorchSF</th>\n",
       "      <th>EnclosedPorch</th>\n",
       "      <th>3SsnPorch</th>\n",
       "      <th>ScreenPorch</th>\n",
       "      <th>PoolArea</th>\n",
       "      <th>MiscVal</th>\n",
       "      <th>MoSold</th>\n",
       "      <th>YrSold</th>\n",
       "      <th>SalePrice</th>\n",
       "    </tr>\n",
       "  </thead>\n",
       "  <tbody>\n",
       "    <tr>\n",
       "      <th>count</th>\n",
       "      <td>1460.000000</td>\n",
       "      <td>1460.000000</td>\n",
       "      <td>1460.000000</td>\n",
       "      <td>1460.000000</td>\n",
       "      <td>1460.000000</td>\n",
       "      <td>1460.000000</td>\n",
       "      <td>1460.000000</td>\n",
       "      <td>1460.000000</td>\n",
       "      <td>1460.000000</td>\n",
       "      <td>1460.000000</td>\n",
       "      <td>1460.000000</td>\n",
       "      <td>1460.000000</td>\n",
       "      <td>1460.000000</td>\n",
       "      <td>1460.000000</td>\n",
       "      <td>1460.000000</td>\n",
       "      <td>1460.000000</td>\n",
       "      <td>1460.000000</td>\n",
       "      <td>1460.000000</td>\n",
       "      <td>1460.000000</td>\n",
       "      <td>1460.000000</td>\n",
       "      <td>1460.000000</td>\n",
       "      <td>1460.000000</td>\n",
       "      <td>1460.000000</td>\n",
       "      <td>1460.000000</td>\n",
       "      <td>1460.000000</td>\n",
       "      <td>1460.000000</td>\n",
       "      <td>1460.000000</td>\n",
       "      <td>1460.000000</td>\n",
       "      <td>1460.000000</td>\n",
       "      <td>1460.000000</td>\n",
       "      <td>1460.000000</td>\n",
       "      <td>1460.000000</td>\n",
       "      <td>1460.000000</td>\n",
       "      <td>1460.000000</td>\n",
       "      <td>1460.000000</td>\n",
       "      <td>1460.000000</td>\n",
       "      <td>1460.000000</td>\n",
       "    </tr>\n",
       "    <tr>\n",
       "      <th>mean</th>\n",
       "      <td>56.897260</td>\n",
       "      <td>69.863699</td>\n",
       "      <td>10516.828082</td>\n",
       "      <td>6.099315</td>\n",
       "      <td>5.575342</td>\n",
       "      <td>1971.267808</td>\n",
       "      <td>1984.865753</td>\n",
       "      <td>103.117123</td>\n",
       "      <td>443.639726</td>\n",
       "      <td>46.549315</td>\n",
       "      <td>567.240411</td>\n",
       "      <td>1057.429452</td>\n",
       "      <td>1162.626712</td>\n",
       "      <td>346.992466</td>\n",
       "      <td>5.844521</td>\n",
       "      <td>1515.463699</td>\n",
       "      <td>0.425342</td>\n",
       "      <td>0.057534</td>\n",
       "      <td>1.565068</td>\n",
       "      <td>0.382877</td>\n",
       "      <td>2.866438</td>\n",
       "      <td>1.046575</td>\n",
       "      <td>6.517808</td>\n",
       "      <td>0.613014</td>\n",
       "      <td>1868.739726</td>\n",
       "      <td>1.767123</td>\n",
       "      <td>472.980137</td>\n",
       "      <td>94.244521</td>\n",
       "      <td>46.660274</td>\n",
       "      <td>21.954110</td>\n",
       "      <td>3.409589</td>\n",
       "      <td>15.060959</td>\n",
       "      <td>2.758904</td>\n",
       "      <td>43.489041</td>\n",
       "      <td>6.321918</td>\n",
       "      <td>2007.815753</td>\n",
       "      <td>180921.195890</td>\n",
       "    </tr>\n",
       "    <tr>\n",
       "      <th>std</th>\n",
       "      <td>42.300571</td>\n",
       "      <td>22.027677</td>\n",
       "      <td>9981.264932</td>\n",
       "      <td>1.382997</td>\n",
       "      <td>1.112799</td>\n",
       "      <td>30.202904</td>\n",
       "      <td>20.645407</td>\n",
       "      <td>180.731373</td>\n",
       "      <td>456.098091</td>\n",
       "      <td>161.319273</td>\n",
       "      <td>441.866955</td>\n",
       "      <td>438.705324</td>\n",
       "      <td>386.587738</td>\n",
       "      <td>436.528436</td>\n",
       "      <td>48.623081</td>\n",
       "      <td>525.480383</td>\n",
       "      <td>0.518911</td>\n",
       "      <td>0.238753</td>\n",
       "      <td>0.550916</td>\n",
       "      <td>0.502885</td>\n",
       "      <td>0.815778</td>\n",
       "      <td>0.220338</td>\n",
       "      <td>1.625393</td>\n",
       "      <td>0.644666</td>\n",
       "      <td>453.697295</td>\n",
       "      <td>0.747315</td>\n",
       "      <td>213.804841</td>\n",
       "      <td>125.338794</td>\n",
       "      <td>66.256028</td>\n",
       "      <td>61.119149</td>\n",
       "      <td>29.317331</td>\n",
       "      <td>55.757415</td>\n",
       "      <td>40.177307</td>\n",
       "      <td>496.123024</td>\n",
       "      <td>2.703626</td>\n",
       "      <td>1.328095</td>\n",
       "      <td>79442.502883</td>\n",
       "    </tr>\n",
       "    <tr>\n",
       "      <th>min</th>\n",
       "      <td>20.000000</td>\n",
       "      <td>21.000000</td>\n",
       "      <td>1300.000000</td>\n",
       "      <td>1.000000</td>\n",
       "      <td>1.000000</td>\n",
       "      <td>1872.000000</td>\n",
       "      <td>1950.000000</td>\n",
       "      <td>0.000000</td>\n",
       "      <td>0.000000</td>\n",
       "      <td>0.000000</td>\n",
       "      <td>0.000000</td>\n",
       "      <td>0.000000</td>\n",
       "      <td>334.000000</td>\n",
       "      <td>0.000000</td>\n",
       "      <td>0.000000</td>\n",
       "      <td>334.000000</td>\n",
       "      <td>0.000000</td>\n",
       "      <td>0.000000</td>\n",
       "      <td>0.000000</td>\n",
       "      <td>0.000000</td>\n",
       "      <td>0.000000</td>\n",
       "      <td>0.000000</td>\n",
       "      <td>2.000000</td>\n",
       "      <td>0.000000</td>\n",
       "      <td>0.000000</td>\n",
       "      <td>0.000000</td>\n",
       "      <td>0.000000</td>\n",
       "      <td>0.000000</td>\n",
       "      <td>0.000000</td>\n",
       "      <td>0.000000</td>\n",
       "      <td>0.000000</td>\n",
       "      <td>0.000000</td>\n",
       "      <td>0.000000</td>\n",
       "      <td>0.000000</td>\n",
       "      <td>1.000000</td>\n",
       "      <td>2006.000000</td>\n",
       "      <td>34900.000000</td>\n",
       "    </tr>\n",
       "    <tr>\n",
       "      <th>25%</th>\n",
       "      <td>20.000000</td>\n",
       "      <td>60.000000</td>\n",
       "      <td>7553.500000</td>\n",
       "      <td>5.000000</td>\n",
       "      <td>5.000000</td>\n",
       "      <td>1954.000000</td>\n",
       "      <td>1967.000000</td>\n",
       "      <td>0.000000</td>\n",
       "      <td>0.000000</td>\n",
       "      <td>0.000000</td>\n",
       "      <td>223.000000</td>\n",
       "      <td>795.750000</td>\n",
       "      <td>882.000000</td>\n",
       "      <td>0.000000</td>\n",
       "      <td>0.000000</td>\n",
       "      <td>1129.500000</td>\n",
       "      <td>0.000000</td>\n",
       "      <td>0.000000</td>\n",
       "      <td>1.000000</td>\n",
       "      <td>0.000000</td>\n",
       "      <td>2.000000</td>\n",
       "      <td>1.000000</td>\n",
       "      <td>5.000000</td>\n",
       "      <td>0.000000</td>\n",
       "      <td>1958.000000</td>\n",
       "      <td>1.000000</td>\n",
       "      <td>334.500000</td>\n",
       "      <td>0.000000</td>\n",
       "      <td>0.000000</td>\n",
       "      <td>0.000000</td>\n",
       "      <td>0.000000</td>\n",
       "      <td>0.000000</td>\n",
       "      <td>0.000000</td>\n",
       "      <td>0.000000</td>\n",
       "      <td>5.000000</td>\n",
       "      <td>2007.000000</td>\n",
       "      <td>129975.000000</td>\n",
       "    </tr>\n",
       "    <tr>\n",
       "      <th>50%</th>\n",
       "      <td>50.000000</td>\n",
       "      <td>69.000000</td>\n",
       "      <td>9478.500000</td>\n",
       "      <td>6.000000</td>\n",
       "      <td>5.000000</td>\n",
       "      <td>1973.000000</td>\n",
       "      <td>1994.000000</td>\n",
       "      <td>0.000000</td>\n",
       "      <td>383.500000</td>\n",
       "      <td>0.000000</td>\n",
       "      <td>477.500000</td>\n",
       "      <td>991.500000</td>\n",
       "      <td>1087.000000</td>\n",
       "      <td>0.000000</td>\n",
       "      <td>0.000000</td>\n",
       "      <td>1464.000000</td>\n",
       "      <td>0.000000</td>\n",
       "      <td>0.000000</td>\n",
       "      <td>2.000000</td>\n",
       "      <td>0.000000</td>\n",
       "      <td>3.000000</td>\n",
       "      <td>1.000000</td>\n",
       "      <td>6.000000</td>\n",
       "      <td>1.000000</td>\n",
       "      <td>1977.000000</td>\n",
       "      <td>2.000000</td>\n",
       "      <td>480.000000</td>\n",
       "      <td>0.000000</td>\n",
       "      <td>25.000000</td>\n",
       "      <td>0.000000</td>\n",
       "      <td>0.000000</td>\n",
       "      <td>0.000000</td>\n",
       "      <td>0.000000</td>\n",
       "      <td>0.000000</td>\n",
       "      <td>6.000000</td>\n",
       "      <td>2008.000000</td>\n",
       "      <td>163000.000000</td>\n",
       "    </tr>\n",
       "    <tr>\n",
       "      <th>75%</th>\n",
       "      <td>70.000000</td>\n",
       "      <td>79.000000</td>\n",
       "      <td>11601.500000</td>\n",
       "      <td>7.000000</td>\n",
       "      <td>6.000000</td>\n",
       "      <td>2000.000000</td>\n",
       "      <td>2004.000000</td>\n",
       "      <td>164.250000</td>\n",
       "      <td>712.250000</td>\n",
       "      <td>0.000000</td>\n",
       "      <td>808.000000</td>\n",
       "      <td>1298.250000</td>\n",
       "      <td>1391.250000</td>\n",
       "      <td>728.000000</td>\n",
       "      <td>0.000000</td>\n",
       "      <td>1776.750000</td>\n",
       "      <td>1.000000</td>\n",
       "      <td>0.000000</td>\n",
       "      <td>2.000000</td>\n",
       "      <td>1.000000</td>\n",
       "      <td>3.000000</td>\n",
       "      <td>1.000000</td>\n",
       "      <td>7.000000</td>\n",
       "      <td>1.000000</td>\n",
       "      <td>2001.000000</td>\n",
       "      <td>2.000000</td>\n",
       "      <td>576.000000</td>\n",
       "      <td>168.000000</td>\n",
       "      <td>68.000000</td>\n",
       "      <td>0.000000</td>\n",
       "      <td>0.000000</td>\n",
       "      <td>0.000000</td>\n",
       "      <td>0.000000</td>\n",
       "      <td>0.000000</td>\n",
       "      <td>8.000000</td>\n",
       "      <td>2009.000000</td>\n",
       "      <td>214000.000000</td>\n",
       "    </tr>\n",
       "    <tr>\n",
       "      <th>max</th>\n",
       "      <td>190.000000</td>\n",
       "      <td>313.000000</td>\n",
       "      <td>215245.000000</td>\n",
       "      <td>10.000000</td>\n",
       "      <td>9.000000</td>\n",
       "      <td>2010.000000</td>\n",
       "      <td>2010.000000</td>\n",
       "      <td>1600.000000</td>\n",
       "      <td>5644.000000</td>\n",
       "      <td>1474.000000</td>\n",
       "      <td>2336.000000</td>\n",
       "      <td>6110.000000</td>\n",
       "      <td>4692.000000</td>\n",
       "      <td>2065.000000</td>\n",
       "      <td>572.000000</td>\n",
       "      <td>5642.000000</td>\n",
       "      <td>3.000000</td>\n",
       "      <td>2.000000</td>\n",
       "      <td>3.000000</td>\n",
       "      <td>2.000000</td>\n",
       "      <td>8.000000</td>\n",
       "      <td>3.000000</td>\n",
       "      <td>14.000000</td>\n",
       "      <td>3.000000</td>\n",
       "      <td>2010.000000</td>\n",
       "      <td>4.000000</td>\n",
       "      <td>1418.000000</td>\n",
       "      <td>857.000000</td>\n",
       "      <td>547.000000</td>\n",
       "      <td>552.000000</td>\n",
       "      <td>508.000000</td>\n",
       "      <td>480.000000</td>\n",
       "      <td>738.000000</td>\n",
       "      <td>15500.000000</td>\n",
       "      <td>12.000000</td>\n",
       "      <td>2010.000000</td>\n",
       "      <td>755000.000000</td>\n",
       "    </tr>\n",
       "  </tbody>\n",
       "</table>\n",
       "</div>"
      ],
      "text/plain": [
       "        MSSubClass  LotFrontage        LotArea  OverallQual  OverallCond  \\\n",
       "count  1460.000000  1460.000000    1460.000000  1460.000000  1460.000000   \n",
       "mean     56.897260    69.863699   10516.828082     6.099315     5.575342   \n",
       "std      42.300571    22.027677    9981.264932     1.382997     1.112799   \n",
       "min      20.000000    21.000000    1300.000000     1.000000     1.000000   \n",
       "25%      20.000000    60.000000    7553.500000     5.000000     5.000000   \n",
       "50%      50.000000    69.000000    9478.500000     6.000000     5.000000   \n",
       "75%      70.000000    79.000000   11601.500000     7.000000     6.000000   \n",
       "max     190.000000   313.000000  215245.000000    10.000000     9.000000   \n",
       "\n",
       "         YearBuilt  YearRemodAdd   MasVnrArea   BsmtFinSF1   BsmtFinSF2  \\\n",
       "count  1460.000000   1460.000000  1460.000000  1460.000000  1460.000000   \n",
       "mean   1971.267808   1984.865753   103.117123   443.639726    46.549315   \n",
       "std      30.202904     20.645407   180.731373   456.098091   161.319273   \n",
       "min    1872.000000   1950.000000     0.000000     0.000000     0.000000   \n",
       "25%    1954.000000   1967.000000     0.000000     0.000000     0.000000   \n",
       "50%    1973.000000   1994.000000     0.000000   383.500000     0.000000   \n",
       "75%    2000.000000   2004.000000   164.250000   712.250000     0.000000   \n",
       "max    2010.000000   2010.000000  1600.000000  5644.000000  1474.000000   \n",
       "\n",
       "         BsmtUnfSF  TotalBsmtSF     1stFlrSF     2ndFlrSF  LowQualFinSF  \\\n",
       "count  1460.000000  1460.000000  1460.000000  1460.000000   1460.000000   \n",
       "mean    567.240411  1057.429452  1162.626712   346.992466      5.844521   \n",
       "std     441.866955   438.705324   386.587738   436.528436     48.623081   \n",
       "min       0.000000     0.000000   334.000000     0.000000      0.000000   \n",
       "25%     223.000000   795.750000   882.000000     0.000000      0.000000   \n",
       "50%     477.500000   991.500000  1087.000000     0.000000      0.000000   \n",
       "75%     808.000000  1298.250000  1391.250000   728.000000      0.000000   \n",
       "max    2336.000000  6110.000000  4692.000000  2065.000000    572.000000   \n",
       "\n",
       "         GrLivArea  BsmtFullBath  BsmtHalfBath     FullBath     HalfBath  \\\n",
       "count  1460.000000   1460.000000   1460.000000  1460.000000  1460.000000   \n",
       "mean   1515.463699      0.425342      0.057534     1.565068     0.382877   \n",
       "std     525.480383      0.518911      0.238753     0.550916     0.502885   \n",
       "min     334.000000      0.000000      0.000000     0.000000     0.000000   \n",
       "25%    1129.500000      0.000000      0.000000     1.000000     0.000000   \n",
       "50%    1464.000000      0.000000      0.000000     2.000000     0.000000   \n",
       "75%    1776.750000      1.000000      0.000000     2.000000     1.000000   \n",
       "max    5642.000000      3.000000      2.000000     3.000000     2.000000   \n",
       "\n",
       "       BedroomAbvGr  KitchenAbvGr  TotRmsAbvGrd   Fireplaces  GarageYrBlt  \\\n",
       "count   1460.000000   1460.000000   1460.000000  1460.000000  1460.000000   \n",
       "mean       2.866438      1.046575      6.517808     0.613014  1868.739726   \n",
       "std        0.815778      0.220338      1.625393     0.644666   453.697295   \n",
       "min        0.000000      0.000000      2.000000     0.000000     0.000000   \n",
       "25%        2.000000      1.000000      5.000000     0.000000  1958.000000   \n",
       "50%        3.000000      1.000000      6.000000     1.000000  1977.000000   \n",
       "75%        3.000000      1.000000      7.000000     1.000000  2001.000000   \n",
       "max        8.000000      3.000000     14.000000     3.000000  2010.000000   \n",
       "\n",
       "        GarageCars   GarageArea   WoodDeckSF  OpenPorchSF  EnclosedPorch  \\\n",
       "count  1460.000000  1460.000000  1460.000000  1460.000000    1460.000000   \n",
       "mean      1.767123   472.980137    94.244521    46.660274      21.954110   \n",
       "std       0.747315   213.804841   125.338794    66.256028      61.119149   \n",
       "min       0.000000     0.000000     0.000000     0.000000       0.000000   \n",
       "25%       1.000000   334.500000     0.000000     0.000000       0.000000   \n",
       "50%       2.000000   480.000000     0.000000    25.000000       0.000000   \n",
       "75%       2.000000   576.000000   168.000000    68.000000       0.000000   \n",
       "max       4.000000  1418.000000   857.000000   547.000000     552.000000   \n",
       "\n",
       "         3SsnPorch  ScreenPorch     PoolArea       MiscVal       MoSold  \\\n",
       "count  1460.000000  1460.000000  1460.000000   1460.000000  1460.000000   \n",
       "mean      3.409589    15.060959     2.758904     43.489041     6.321918   \n",
       "std      29.317331    55.757415    40.177307    496.123024     2.703626   \n",
       "min       0.000000     0.000000     0.000000      0.000000     1.000000   \n",
       "25%       0.000000     0.000000     0.000000      0.000000     5.000000   \n",
       "50%       0.000000     0.000000     0.000000      0.000000     6.000000   \n",
       "75%       0.000000     0.000000     0.000000      0.000000     8.000000   \n",
       "max     508.000000   480.000000   738.000000  15500.000000    12.000000   \n",
       "\n",
       "            YrSold      SalePrice  \n",
       "count  1460.000000    1460.000000  \n",
       "mean   2007.815753  180921.195890  \n",
       "std       1.328095   79442.502883  \n",
       "min    2006.000000   34900.000000  \n",
       "25%    2007.000000  129975.000000  \n",
       "50%    2008.000000  163000.000000  \n",
       "75%    2009.000000  214000.000000  \n",
       "max    2010.000000  755000.000000  "
      ]
     },
     "execution_count": 695,
     "metadata": {},
     "output_type": "execute_result"
    }
   ],
   "source": [
    "train.describe()"
   ]
  },
  {
   "cell_type": "markdown",
   "metadata": {},
   "source": [
    "## Feature Engineering\n",
    "\n",
    "**Univariate analysis**:\n",
    "- summarize a continuous variable : use `describe()` function\n",
    "- summarize a categorical variable we will use `value_counts()` function\n",
    "\n",
    "**Bivariate analysis and Visualization**:\n",
    "\n",
    "- Distribution of input/output variables\n",
    "- Distribution of output in each class of categorical varialbes\n",
    "- Correlations between continuous variables\n"
   ]
  },
  {
   "cell_type": "markdown",
   "metadata": {},
   "source": [
    "**Process**\n",
    "1. keep: \"GrLivArea\", remove: \"1stFlrSF\" , \"2ndFlrSF\" , \"LowQualFinSF\"   \n",
    "   notes: a. \"GrLivArea\" is the total of the three b. GrLivArea shows strong linear relationship with SalePrice.\n",
    "2. create a new column:  \"Baths\" = \"FullBath\"*4 + \"HalfBath\"*2 + \"BsmtFullBath\"*1 + \"BsmtHalfBath\"*0.5 \n",
    "3. keep: \"TotalBsmtSF\", remove:  \"BsmtFinSF1\", \"BsmtFinSF2\", \"BsmtUnfSF\"   "
   ]
  },
  {
   "cell_type": "markdown",
   "metadata": {},
   "source": [
    "\n",
    "\n",
    "\n",
    "4. keep: \"BsmtFinType1\", remove: \"BsmtFinType2\"\n",
    "5. keep: \"Condition1\", remove \"Condition2\" \n",
    "6. keep: \"YearBuilt\" & \"YearRemod\" (Check with Lasso then drop it before Elastic Net or Not\n",
    "7. remove:  \"Heating\""
   ]
  },
  {
   "cell_type": "markdown",
   "metadata": {},
   "source": [
    "8. remove: Utilities == 'NoSewer' obeservation ( index = 945 ) \n",
    "   remove: \"Unilities\" column\n",
    "9. keep: \"GarageCars\", remove \"GarageArea\" \n",
    "10. keep: \"GarageQual\",  Remove \"GarageCond\"\n",
    "11. remove: \"GarageYrBlt\", only 371 out of 1460 garages were built after the house was built. \n",
    "    the difference does not affect much of house price."
   ]
  },
  {
   "cell_type": "markdown",
   "metadata": {},
   "source": [
    "12. create a new column: \"Porch.Agg\" = 1*\"EnclosedPorch\" + 1*\"3SsnPorch\" + 0.8*\"ScreenPorch\" + 0.6*\"OpenPorchSF\" + 0.5*\"WoodDeckSF\"\n",
    "    (Rescale the multipliers later and check the relationship between Porch.Agg and SalePrice)\n",
    "13. remove:  \"PoolQC\" due to almost every obs is None\n",
    "14. remove:  \"MiscFeature\" but keep the \"MiscVal\"\n",
    "15. Should Check MoSold and YearSold to determine whether to integrate or not"
   ]
  },
  {
   "cell_type": "markdown",
   "metadata": {},
   "source": [
    "### Classification of Variable Types"
   ]
  },
  {
   "cell_type": "markdown",
   "metadata": {},
   "source": [
    "### DataCleaning"
   ]
  },
  {
   "cell_type": "code",
   "execution_count": 1438,
   "metadata": {
    "scrolled": true
   },
   "outputs": [
    {
     "data": {
      "text/plain": [
       "(2919, 81)"
      ]
     },
     "execution_count": 1438,
     "metadata": {},
     "output_type": "execute_result"
    }
   ],
   "source": [
    "import numpy as np \n",
    "\n",
    "testtrain = pd.concat([train,test])\n",
    "testtrain = testtrain.reset_index()\n",
    "\n",
    "testtrain.head(5)\n",
    "testtrain.shape"
   ]
  },
  {
   "cell_type": "code",
   "execution_count": 1439,
   "metadata": {},
   "outputs": [],
   "source": [
    "\n",
    "def manualImputeNdrop(x):\n",
    "    df = x.copy(deep=True)\n",
    "    df = df.drop(columns = ['Alley','Id', 'Utilities','LowQualFinSF',\n",
    "                        '1stFlrSF','2ndFlrSF', 'PoolQC', 'MiscFeature', \n",
    "                        'GarageArea','GarageCond', 'GarageYrBlt',\n",
    "                        'BsmtFinType2', 'Condition2', 'Heating',\n",
    "                        'BsmtFinSF1', 'BsmtFinSF2', 'BsmtUnfSF'])\n",
    "    df['LotFrontage'] = df['LotFrontage'].fillna(df['LotFrontage'].median())\n",
    " \n",
    "    df['MSSubClass'] = df['MSSubClass'].replace('150', '120')\n",
    "\n",
    "\n",
    "    \n",
    "    df['MasVnrType'] = df['MasVnrType'].replace('None', 'No')\n",
    "    df['MasVnrType'] = df['MasVnrType'].fillna('No')\n",
    "    df['MasVnrArea'] = df['MasVnrArea'].fillna(float(0))\n",
    "    df['BsmtQual'] = df['BsmtQual'].fillna('No')\n",
    "    df['BsmtCond'] = df['BsmtCond'].fillna('No')\n",
    "    df['BsmtFinType1'] = df['BsmtFinType1'].fillna('No')\n",
    "    df['BsmtExposure'] = df['BsmtExposure'].fillna('No')\n",
    "    df['Electrical'] = df['Electrical'].fillna('SBrkr')\n",
    "\n",
    "    df['GarageType'] = df['GarageType'].fillna('No')\n",
    "    df['GarageFinish'] = df['GarageFinish'].fillna('No')\n",
    "    df['GarageQual'] = df['GarageQual'].fillna('No')\n",
    "    df['GarageQual'] = df['GarageQual'].replace('Ex', 'Gd')\n",
    "    df['GarageCars'] = df['GarageCars'].fillna('No')      # 1 missing go with 'No'\n",
    "\n",
    "    df['SaleType'] = df['SaleType'].fillna('Oth')\n",
    "\n",
    "\n",
    "    df['FireplaceQu'] = df['FireplaceQu'].fillna('No')\n",
    "    df['Fence'] = df['Fence'].fillna('No')\n",
    "    df['HouseStyle'] = df['HouseStyle'].replace('2.5Fin', '2Story')\n",
    "\n",
    "    df['Exterior1st'] = df['Exterior1st'].replace('ImStucc', 'Vinysd')\n",
    "    df['Exterior1st'] = df['Exterior1st'].replace('Stone', 'VinylSd')\n",
    "    df['Exterior1st'] = df['Exterior1st'].fillna('VinylSd') # 1 missing go with VinylSd\n",
    "\n",
    "    df['Exterior2nd'] = df['Exterior2nd'].replace('Other', 'VinylSd')\n",
    "    df['Exterior2nd'] = df['Exterior2nd'].fillna('VinylSd')  # 1 missing go with VinylSd\n",
    "\n",
    "    df['MiscVal']=df['MiscVal'].fillna(int(0))\n",
    "\n",
    "    df['KitchenQual'] = df['KitchenQual'].fillna('TA')      # 1 missing go with 'TA'\n",
    "\n",
    "    df['MSSubClass'] = df['MSSubClass'].replace('150', '120')\n",
    "\n",
    "    df['TotalBsmtSF'] = df['TotalBsmtSF'].fillna(df['TotalBsmtSF'].median())  \n",
    "    df['SaleType'] = df['SaleType'].fillna('Oth')\n",
    "    df['Functional'] = df['Functional'].fillna('Typ')  # 3 missing go with 'typical functionality\n",
    "    df['MSZoning'] = df['MSZoning'].fillna('RL')        # 3 missing go with RL\n",
    "    \n",
    "    df['BsmtFullBath'] = df['BsmtFullBath'].fillna(0.0)    # 2 missing go with 0.0\n",
    "    df['BsmtHalfBath'] = df['BsmtHalfBath'].fillna(0.0)      # 2 missing go with 0.0\n",
    "    df['FullBath'] = df['FullBath'].fillna(0.0)\n",
    "    df['HalfBath'] = df['HalfBath'].fillna(0.0) \n",
    "    df['Baths'] = 5*df['FullBath'] + 2.5*df['HalfBath'] + 3*df['BsmtFullBath'] + 1.5*df['BsmtHalfBath']\n",
    "\n",
    "\n",
    "    return df\n",
    "\n",
    "testtrain = manualImputeNdrop(testtrain)  #"
   ]
  },
  {
   "cell_type": "code",
   "execution_count": 1440,
   "metadata": {},
   "outputs": [
    {
     "name": "stdout",
     "output_type": "stream",
     "text": [
      "(2919, 22)\n",
      "(2919, 22)\n",
      "(2919, 13)\n",
      "(2919, 7)\n"
     ]
    }
   ],
   "source": [
    "nominal_catV = ['MSSubClass', 'MSZoning', 'Street', 'LotShape', 'LandContour', 'LotConfig', 'LandSlope',\n",
    "                 'Neighborhood', 'BldgType', 'HouseStyle', 'RoofStyle', 'RoofMatl', 'Exterior1st' ,'Exterior2nd', \n",
    "                 'MasVnrType', 'Foundation', 'BsmtExposure', 'Electrical', 'GarageType', 'SaleType', \n",
    "                 'BsmtFinType1', 'Condition1'] #22\n",
    "\n",
    "# Ordinal to Nominal due to complexity in rating : Condition1, BsmtFinType1\n",
    "\n",
    "ordinal_catV = [ 'OverallQual', 'OverallCond', 'ExterQual','ExterCond', 'BsmtQual', 'BsmtCond',\n",
    "                 'HeatingQC','CentralAir', 'KitchenQual', 'Functional', 'FireplaceQu', \n",
    "                'GarageFinish', 'GarageQual', 'PavedDrive', 'Fence', 'SaleCondition','Baths',\n",
    "               'EnclosedPorch', '3SsnPorch', 'ScreenPorch', 'OpenPorchSF', 'WoodDeckSF'] #22\n",
    "\n",
    "discrete_V = ['YearBuilt', 'YearRemodAdd', 'BedroomAbvGr', 'KitchenAbvGr','TotRmsAbvGrd','Fireplaces', 'GarageCars', \n",
    "              'MoSold', 'YrSold', \"FullBath\", \"HalfBath\", \"BsmtFullBath\", \"BsmtHalfBath\"] # 13\n",
    "\n",
    "numeric_V = ['LotFrontage','LotArea','MasVnrArea','TotalBsmtSF', 'GrLivArea','PoolArea', 'MiscVal'] # 7 Variables\n",
    "\n",
    "\n",
    "print(testtrain[nominal_catV].shape)\n",
    "print(testtrain[ordinal_catV].shape)\n",
    "print(testtrain[discrete_V].shape)\n",
    "print(testtrain[numeric_V].shape)"
   ]
  },
  {
   "cell_type": "code",
   "execution_count": 1441,
   "metadata": {},
   "outputs": [],
   "source": [
    "# pip install category_encoders\n",
    "# pip install feature-engine \n",
    "\n",
    "from feature_engine.categorical_encoders import OneHotCategoricalEncoder, OrdinalCategoricalEncoder  \n",
    "\n",
    "import category_encoders as ce\n",
    "\n",
    "from sklearn.preprocessing import PowerTransformer, StandardScaler\n",
    "from sklearn.compose import make_column_transformer\n",
    "\n",
    "testtrain_dis_nom_ord = testtrain[nominal_catV+discrete_V+ordinal_catV].astype(object)   # Had to Change some variables from int64 to Object to make this function work \n",
    "# testtrain_ord = testtrain[ordinal_catV].astype(object)\n",
    "\n",
    "OneHotEnc = OneHotCategoricalEncoder(\n",
    "                        top_categories = None,\n",
    "                        variables= nominal_catV+discrete_V+ordinal_catV,\n",
    "                        drop_last = True\n",
    "                                    )  \n",
    "\n",
    "# Intuition needed in  \" train.groupby('GarageQual')['SalePrice'].median().sort_values() \"\n",
    "# ordinal_columns_mapping = [\n",
    "   \n",
    "#    { \"col\": \"ExterQual\",        #1\n",
    "#      \"mapping\" : {'Fa':1, 'TA':2, 'Gd':3, 'Ex':4\n",
    "#                  }},\n",
    "#    { \"col\": \"ExterCond\",        #2\n",
    "#      \"mapping\" : {'Po':0, 'Fa':1, 'TA':2, 'Gd':3, 'Ex':4\n",
    "#                  }},\n",
    "#    { \"col\": \"BsmtQual\",         #3\n",
    "#      \"mapping\" : {'Fa':1, 'TA':2, 'Gd':3, 'Ex':4\n",
    "#                  }},\n",
    "#    { \"col\": \"BsmtCond\",         #4\n",
    "#      \"mapping\" : {'Po':0, 'Fa':1, 'TA':2, 'Gd':3\n",
    "#                  }},\n",
    "#    { \"col\": \"HeatingQC\",        #5\n",
    "#      \"mapping\" : {'Po':0, 'Fa':1, 'TA':2, 'Gd':3, 'Ex':4\n",
    "#                  }},\n",
    "#    { \"col\": \"CentralAir\",       #6\n",
    "#      \"mapping\" : {'N':0, 'Y':1\n",
    "#                  }},   \n",
    "#    { \"col\": \"KitchenQual\",      #7\n",
    "#      \"mapping\" : {'Fa':1, 'TA':2, 'Gd':3, 'Ex':4\n",
    "#                  }},\n",
    "#    { \"col\": \"Functional\",       #8\n",
    "#      \"mapping\" : {'Sev':0, 'Maj2':1, 'Maj1':2, 'Mod':3, 'Min1':4, 'Min2':5, 'Typ':6\n",
    "#                  }},\n",
    "#    { \"col\": \"FireplaceQu\",      #9\n",
    "#      \"mapping\" : {'No':0 , 'Po':1, 'Fa':2, 'TA':3, 'Gd':4, 'Ex':5\n",
    "#                  }},\n",
    "#    { \"col\": \"GarageFinish\",     #10\n",
    "#      \"mapping\" : {'No':0, 'Unf':1, 'RFn':2, 'Fin':3\n",
    "#                  }},\n",
    "#    { \"col\": \"GarageQual\",       #11\n",
    "#      \"mapping\" : {'Po':0, 'No':1, 'Fa':2, 'TA':3, 'Gd':4, 'Ex':5\n",
    "#                  }},       # Calibrated by \" train.groupby('GarageQual')['SalePrice'].median().sort_values() \"   # Intuition Needed ****\n",
    "#    { \"col\": \"PavedDrive\",       #12\n",
    "#      \"mapping\" : {'N':0, 'P':1, 'Y':2\n",
    "#                  }},\n",
    "#    { \"col\": \"Fence\",            #13\n",
    "#      \"mapping\" : {'No':0, 'MnWw':1, 'MnPrv':2, 'GdWo':3, 'GdPrv':4\n",
    "#                  }},    # Calibrated by \" train.groupby('Fence')['SalePrice'].median().sort_values() \"\n",
    "#    { \"col\": \"SaleCondition\",    #14\n",
    "#      \"mapping\" : {'AdjLand':0, 'Abnorml':1, 'Family':2, 'Normal':3, 'Partial':4\n",
    "#                  }}\n",
    "    \n",
    "# ]    # Did not Include \"OverallQual\", \"OverallCond\" \"Baths\", it will be automatically done ***\n",
    "\n",
    "# OrdEnc = ce.OrdinalEncoder(mapping = ordinal_columns_mapping, return_df= True)\n",
    "\n",
    "features = testtrain[numeric_V]\n",
    "preprocess = make_column_transformer(  (numeric_V, PowerTransformer(method='yeo-johnson', standardize = False) ) )\n",
    "temp = preprocess.fit_transform(features)\n",
    "\n",
    "# numeric_V = ['LotFrontage','LotArea','MasVnrArea','TotalBsmtSF', 'GrLivArea','PoolArea', 'MiscVal'] # 7 Variables\n",
    "\n",
    "\n",
    "lst = [temp[:, i] for i in range(7)]\n",
    "for i in range(7):\n",
    "    numerics = pd.DataFrame(lst, index=numeric_V).transpose()\n",
    "    \n",
    "    \n",
    "nominal_discrete_ord = OneHotEnc.fit_transform(testtrain_dis_nom_ord[nominal_catV+discrete_V+ordinal_catV]) # All dtypes = Object, if needed can convert some back to int64.\n",
    "# ordinals = OrdEnc.fit_transform(testtrain_ord)\n",
    "nominal_discrete_ord = nominal_discrete.reset_index()\n",
    "numerics = numerics.reset_index()\n",
    "# ordinals = ordinals.reset_index()\n",
    "\n",
    "\n",
    "testtrain_cleaned = pd.concat([nominal_discrete_ord, numerics], axis = 1) # ordinals\n",
    "testtrain_cleaned = testtrain_cleaned.drop(columns='index')\n",
    "\n",
    "testtrain_cleaned = testtrain_cleaned.drop(testtrain_cleaned.index[[523,1298]])\n",
    "testtrain_cleaned = testtrain_cleaned.reset_index()\n",
    "testtrain_cleaned = testtrain_cleaned.drop(columns = 'index')"
   ]
  },
  {
   "cell_type": "code",
   "execution_count": 1451,
   "metadata": {},
   "outputs": [],
   "source": [
    "train_cleaned = testtrain_cleaned.iloc[0:1458]\n",
    "test_cleaned = testtrain_cleaned.iloc[1458:2918]\n",
    "\n",
    "X = train_cleaned\n",
    "X_test = test_cleaned \n",
    "\n",
    "y = train['SalePrice']   \n",
    "y = y.drop(y.index[[523,1298]])\n",
    "y = y.reset_index()\n",
    "y = y.drop(columns = 'Id')"
   ]
  },
  {
   "cell_type": "code",
   "execution_count": 1445,
   "metadata": {},
   "outputs": [],
   "source": [
    "# train_cleaned[train_cleaned['Baths'].isnull()].index.tolist()"
   ]
  },
  {
   "cell_type": "markdown",
   "metadata": {},
   "source": [
    "## Modelling (training set) "
   ]
  },
  {
   "cell_type": "markdown",
   "metadata": {},
   "source": [
    "## 1. Lasso (training)"
   ]
  },
  {
   "cell_type": "code",
   "execution_count": 1342,
   "metadata": {},
   "outputs": [
    {
     "name": "stdout",
     "output_type": "stream",
     "text": [
      "0.12386697483762463\n"
     ]
    }
   ],
   "source": [
    "from sklearn.linear_model import Lasso\n",
    "\n",
    "alpha_space = np.array([0.001, 0.01, 0.1, 1, 10, 100, 1000])\n",
    "param_grid = {'alpha': alpha_space}\n",
    "\n",
    "lasso = Lasso(normalize=True)\n",
    "lasso_gs_cv = GridSearchCV(lasso, param_grid=param_grid, n_jobs = 2, cv = 5) \n",
    "\n",
    "lasso_gs_cv.fit(X, y) # lasso_gs_cv.fit(train_dropped_EN, y)   \n",
    "pred_lasso = lasso_gs_cv.predict(X) \n",
    "\n",
    "print(np.sqrt(mean_squared_log_error(y, pred_lasso)))"
   ]
  },
  {
   "cell_type": "code",
   "execution_count": 1324,
   "metadata": {},
   "outputs": [
    {
     "data": {
      "text/plain": [
       "{'alpha': 7}"
      ]
     },
     "execution_count": 1324,
     "metadata": {},
     "output_type": "execute_result"
    }
   ],
   "source": [
    "lasso_gs_cv.best_params_"
   ]
  },
  {
   "cell_type": "markdown",
   "metadata": {},
   "source": [
    "## 2. Ridge (training)"
   ]
  },
  {
   "cell_type": "code",
   "execution_count": 1337,
   "metadata": {},
   "outputs": [
    {
     "data": {
      "text/plain": [
       "{'alpha': 4.0}"
      ]
     },
     "execution_count": 1337,
     "metadata": {},
     "output_type": "execute_result"
    }
   ],
   "source": [
    "ridge_gs_cv.best_params_"
   ]
  },
  {
   "cell_type": "code",
   "execution_count": 1347,
   "metadata": {},
   "outputs": [
    {
     "name": "stdout",
     "output_type": "stream",
     "text": [
      "0.12973925175986586\n"
     ]
    }
   ],
   "source": [
    "from sklearn.linear_model import Ridge\n",
    "\n",
    "alpha_space = np.array([0.001, 0.01, 0.1, 1, 10, 100, 1000])\n",
    "param_grid = {'alpha': alpha_space}\n",
    "\n",
    "ridge = Ridge(normalize=False)\n",
    "ridge_gs_cv = GridSearchCV(ridge, param_grid=param_grid, n_jobs = 2, cv = 5) \n",
    "\n",
    "ridge_gs_cv.fit(X, y)   \n",
    "pred_ridge = ridge_gs_cv.predict(X)    \n",
    "\n",
    "print(np.sqrt(mean_squared_log_error(y, pred_ridge)))"
   ]
  },
  {
   "cell_type": "markdown",
   "metadata": {},
   "source": [
    "## 3. Random Forest (training)"
   ]
  },
  {
   "cell_type": "code",
   "execution_count": 1226,
   "metadata": {},
   "outputs": [
    {
     "ename": "AttributeError",
     "evalue": "'GridSearchCV' object has no attribute 'best_params_'",
     "output_type": "error",
     "traceback": [
      "\u001b[1;31m---------------------------------------------------------------------------\u001b[0m",
      "\u001b[1;31mAttributeError\u001b[0m                            Traceback (most recent call last)",
      "\u001b[1;32m<ipython-input-1226-2b4cc870323a>\u001b[0m in \u001b[0;36m<module>\u001b[1;34m\u001b[0m\n\u001b[1;32m----> 1\u001b[1;33m \u001b[0mrf_cv\u001b[0m\u001b[1;33m.\u001b[0m\u001b[0mbest_params_\u001b[0m\u001b[1;33m\u001b[0m\u001b[1;33m\u001b[0m\u001b[0m\n\u001b[0m",
      "\u001b[1;31mAttributeError\u001b[0m: 'GridSearchCV' object has no attribute 'best_params_'"
     ]
    }
   ],
   "source": [
    "rf_cv.best_params_ "
   ]
  },
  {
   "cell_type": "code",
   "execution_count": 1348,
   "metadata": {},
   "outputs": [
    {
     "ename": "KeyboardInterrupt",
     "evalue": "",
     "output_type": "error",
     "traceback": [
      "\u001b[1;31m---------------------------------------------------------------------------\u001b[0m",
      "\u001b[1;31mKeyboardInterrupt\u001b[0m                         Traceback (most recent call last)",
      "\u001b[1;32m<ipython-input-1348-7b04d66387e4>\u001b[0m in \u001b[0;36m<module>\u001b[1;34m\u001b[0m\n\u001b[0;32m     22\u001b[0m \u001b[0mrf_cv\u001b[0m \u001b[1;33m=\u001b[0m \u001b[0mGridSearchCV\u001b[0m\u001b[1;33m(\u001b[0m\u001b[0mrf\u001b[0m\u001b[1;33m,\u001b[0m \u001b[0mparam_grid\u001b[0m \u001b[1;33m=\u001b[0m \u001b[0mparam_grid\u001b[0m\u001b[1;33m,\u001b[0m \u001b[0mn_jobs\u001b[0m \u001b[1;33m=\u001b[0m \u001b[1;36m2\u001b[0m\u001b[1;33m,\u001b[0m \u001b[0mcv\u001b[0m \u001b[1;33m=\u001b[0m \u001b[1;36m5\u001b[0m\u001b[1;33m)\u001b[0m\u001b[1;33m\u001b[0m\u001b[1;33m\u001b[0m\u001b[0m\n\u001b[0;32m     23\u001b[0m \u001b[1;33m\u001b[0m\u001b[0m\n\u001b[1;32m---> 24\u001b[1;33m \u001b[0mrf_cv\u001b[0m\u001b[1;33m.\u001b[0m\u001b[0mfit\u001b[0m\u001b[1;33m(\u001b[0m\u001b[0mX\u001b[0m\u001b[1;33m,\u001b[0m \u001b[0my\u001b[0m\u001b[1;33m)\u001b[0m\u001b[1;33m\u001b[0m\u001b[1;33m\u001b[0m\u001b[0m\n\u001b[0m\u001b[0;32m     25\u001b[0m \u001b[0mpred_rf\u001b[0m \u001b[1;33m=\u001b[0m \u001b[0mrf_cv\u001b[0m\u001b[1;33m.\u001b[0m\u001b[0mpredict\u001b[0m\u001b[1;33m(\u001b[0m\u001b[0mX\u001b[0m\u001b[1;33m)\u001b[0m\u001b[1;33m\u001b[0m\u001b[1;33m\u001b[0m\u001b[0m\n\u001b[0;32m     26\u001b[0m \u001b[1;33m\u001b[0m\u001b[0m\n",
      "\u001b[1;32m~\\Anaconda3\\lib\\site-packages\\sklearn\\model_selection\\_search.py\u001b[0m in \u001b[0;36mfit\u001b[1;34m(self, X, y, groups, **fit_params)\u001b[0m\n\u001b[0;32m    720\u001b[0m                 \u001b[1;32mreturn\u001b[0m \u001b[0mresults_container\u001b[0m\u001b[1;33m[\u001b[0m\u001b[1;36m0\u001b[0m\u001b[1;33m]\u001b[0m\u001b[1;33m\u001b[0m\u001b[1;33m\u001b[0m\u001b[0m\n\u001b[0;32m    721\u001b[0m \u001b[1;33m\u001b[0m\u001b[0m\n\u001b[1;32m--> 722\u001b[1;33m             \u001b[0mself\u001b[0m\u001b[1;33m.\u001b[0m\u001b[0m_run_search\u001b[0m\u001b[1;33m(\u001b[0m\u001b[0mevaluate_candidates\u001b[0m\u001b[1;33m)\u001b[0m\u001b[1;33m\u001b[0m\u001b[1;33m\u001b[0m\u001b[0m\n\u001b[0m\u001b[0;32m    723\u001b[0m \u001b[1;33m\u001b[0m\u001b[0m\n\u001b[0;32m    724\u001b[0m         \u001b[0mresults\u001b[0m \u001b[1;33m=\u001b[0m \u001b[0mresults_container\u001b[0m\u001b[1;33m[\u001b[0m\u001b[1;36m0\u001b[0m\u001b[1;33m]\u001b[0m\u001b[1;33m\u001b[0m\u001b[1;33m\u001b[0m\u001b[0m\n",
      "\u001b[1;32m~\\Anaconda3\\lib\\site-packages\\sklearn\\model_selection\\_search.py\u001b[0m in \u001b[0;36m_run_search\u001b[1;34m(self, evaluate_candidates)\u001b[0m\n\u001b[0;32m   1189\u001b[0m     \u001b[1;32mdef\u001b[0m \u001b[0m_run_search\u001b[0m\u001b[1;33m(\u001b[0m\u001b[0mself\u001b[0m\u001b[1;33m,\u001b[0m \u001b[0mevaluate_candidates\u001b[0m\u001b[1;33m)\u001b[0m\u001b[1;33m:\u001b[0m\u001b[1;33m\u001b[0m\u001b[1;33m\u001b[0m\u001b[0m\n\u001b[0;32m   1190\u001b[0m         \u001b[1;34m\"\"\"Search all candidates in param_grid\"\"\"\u001b[0m\u001b[1;33m\u001b[0m\u001b[1;33m\u001b[0m\u001b[0m\n\u001b[1;32m-> 1191\u001b[1;33m         \u001b[0mevaluate_candidates\u001b[0m\u001b[1;33m(\u001b[0m\u001b[0mParameterGrid\u001b[0m\u001b[1;33m(\u001b[0m\u001b[0mself\u001b[0m\u001b[1;33m.\u001b[0m\u001b[0mparam_grid\u001b[0m\u001b[1;33m)\u001b[0m\u001b[1;33m)\u001b[0m\u001b[1;33m\u001b[0m\u001b[1;33m\u001b[0m\u001b[0m\n\u001b[0m\u001b[0;32m   1192\u001b[0m \u001b[1;33m\u001b[0m\u001b[0m\n\u001b[0;32m   1193\u001b[0m \u001b[1;33m\u001b[0m\u001b[0m\n",
      "\u001b[1;32m~\\Anaconda3\\lib\\site-packages\\sklearn\\model_selection\\_search.py\u001b[0m in \u001b[0;36mevaluate_candidates\u001b[1;34m(candidate_params)\u001b[0m\n\u001b[0;32m    709\u001b[0m                                \u001b[1;32mfor\u001b[0m \u001b[0mparameters\u001b[0m\u001b[1;33m,\u001b[0m \u001b[1;33m(\u001b[0m\u001b[0mtrain\u001b[0m\u001b[1;33m,\u001b[0m \u001b[0mtest\u001b[0m\u001b[1;33m)\u001b[0m\u001b[1;33m\u001b[0m\u001b[1;33m\u001b[0m\u001b[0m\n\u001b[0;32m    710\u001b[0m                                in product(candidate_params,\n\u001b[1;32m--> 711\u001b[1;33m                                           cv.split(X, y, groups)))\n\u001b[0m\u001b[0;32m    712\u001b[0m \u001b[1;33m\u001b[0m\u001b[0m\n\u001b[0;32m    713\u001b[0m                 \u001b[0mall_candidate_params\u001b[0m\u001b[1;33m.\u001b[0m\u001b[0mextend\u001b[0m\u001b[1;33m(\u001b[0m\u001b[0mcandidate_params\u001b[0m\u001b[1;33m)\u001b[0m\u001b[1;33m\u001b[0m\u001b[1;33m\u001b[0m\u001b[0m\n",
      "\u001b[1;32m~\\Anaconda3\\lib\\site-packages\\sklearn\\externals\\joblib\\parallel.py\u001b[0m in \u001b[0;36m__call__\u001b[1;34m(self, iterable)\u001b[0m\n\u001b[0;32m    928\u001b[0m \u001b[1;33m\u001b[0m\u001b[0m\n\u001b[0;32m    929\u001b[0m             \u001b[1;32mwith\u001b[0m \u001b[0mself\u001b[0m\u001b[1;33m.\u001b[0m\u001b[0m_backend\u001b[0m\u001b[1;33m.\u001b[0m\u001b[0mretrieval_context\u001b[0m\u001b[1;33m(\u001b[0m\u001b[1;33m)\u001b[0m\u001b[1;33m:\u001b[0m\u001b[1;33m\u001b[0m\u001b[1;33m\u001b[0m\u001b[0m\n\u001b[1;32m--> 930\u001b[1;33m                 \u001b[0mself\u001b[0m\u001b[1;33m.\u001b[0m\u001b[0mretrieve\u001b[0m\u001b[1;33m(\u001b[0m\u001b[1;33m)\u001b[0m\u001b[1;33m\u001b[0m\u001b[1;33m\u001b[0m\u001b[0m\n\u001b[0m\u001b[0;32m    931\u001b[0m             \u001b[1;31m# Make sure that we get a last message telling us we are done\u001b[0m\u001b[1;33m\u001b[0m\u001b[1;33m\u001b[0m\u001b[1;33m\u001b[0m\u001b[0m\n\u001b[0;32m    932\u001b[0m             \u001b[0melapsed_time\u001b[0m \u001b[1;33m=\u001b[0m \u001b[0mtime\u001b[0m\u001b[1;33m.\u001b[0m\u001b[0mtime\u001b[0m\u001b[1;33m(\u001b[0m\u001b[1;33m)\u001b[0m \u001b[1;33m-\u001b[0m \u001b[0mself\u001b[0m\u001b[1;33m.\u001b[0m\u001b[0m_start_time\u001b[0m\u001b[1;33m\u001b[0m\u001b[1;33m\u001b[0m\u001b[0m\n",
      "\u001b[1;32m~\\Anaconda3\\lib\\site-packages\\sklearn\\externals\\joblib\\parallel.py\u001b[0m in \u001b[0;36mretrieve\u001b[1;34m(self)\u001b[0m\n\u001b[0;32m    831\u001b[0m             \u001b[1;32mtry\u001b[0m\u001b[1;33m:\u001b[0m\u001b[1;33m\u001b[0m\u001b[1;33m\u001b[0m\u001b[0m\n\u001b[0;32m    832\u001b[0m                 \u001b[1;32mif\u001b[0m \u001b[0mgetattr\u001b[0m\u001b[1;33m(\u001b[0m\u001b[0mself\u001b[0m\u001b[1;33m.\u001b[0m\u001b[0m_backend\u001b[0m\u001b[1;33m,\u001b[0m \u001b[1;34m'supports_timeout'\u001b[0m\u001b[1;33m,\u001b[0m \u001b[1;32mFalse\u001b[0m\u001b[1;33m)\u001b[0m\u001b[1;33m:\u001b[0m\u001b[1;33m\u001b[0m\u001b[1;33m\u001b[0m\u001b[0m\n\u001b[1;32m--> 833\u001b[1;33m                     \u001b[0mself\u001b[0m\u001b[1;33m.\u001b[0m\u001b[0m_output\u001b[0m\u001b[1;33m.\u001b[0m\u001b[0mextend\u001b[0m\u001b[1;33m(\u001b[0m\u001b[0mjob\u001b[0m\u001b[1;33m.\u001b[0m\u001b[0mget\u001b[0m\u001b[1;33m(\u001b[0m\u001b[0mtimeout\u001b[0m\u001b[1;33m=\u001b[0m\u001b[0mself\u001b[0m\u001b[1;33m.\u001b[0m\u001b[0mtimeout\u001b[0m\u001b[1;33m)\u001b[0m\u001b[1;33m)\u001b[0m\u001b[1;33m\u001b[0m\u001b[1;33m\u001b[0m\u001b[0m\n\u001b[0m\u001b[0;32m    834\u001b[0m                 \u001b[1;32melse\u001b[0m\u001b[1;33m:\u001b[0m\u001b[1;33m\u001b[0m\u001b[1;33m\u001b[0m\u001b[0m\n\u001b[0;32m    835\u001b[0m                     \u001b[0mself\u001b[0m\u001b[1;33m.\u001b[0m\u001b[0m_output\u001b[0m\u001b[1;33m.\u001b[0m\u001b[0mextend\u001b[0m\u001b[1;33m(\u001b[0m\u001b[0mjob\u001b[0m\u001b[1;33m.\u001b[0m\u001b[0mget\u001b[0m\u001b[1;33m(\u001b[0m\u001b[1;33m)\u001b[0m\u001b[1;33m)\u001b[0m\u001b[1;33m\u001b[0m\u001b[1;33m\u001b[0m\u001b[0m\n",
      "\u001b[1;32m~\\Anaconda3\\lib\\site-packages\\sklearn\\externals\\joblib\\_parallel_backends.py\u001b[0m in \u001b[0;36mwrap_future_result\u001b[1;34m(future, timeout)\u001b[0m\n\u001b[0;32m    519\u001b[0m         AsyncResults.get from multiprocessing.\"\"\"\n\u001b[0;32m    520\u001b[0m         \u001b[1;32mtry\u001b[0m\u001b[1;33m:\u001b[0m\u001b[1;33m\u001b[0m\u001b[1;33m\u001b[0m\u001b[0m\n\u001b[1;32m--> 521\u001b[1;33m             \u001b[1;32mreturn\u001b[0m \u001b[0mfuture\u001b[0m\u001b[1;33m.\u001b[0m\u001b[0mresult\u001b[0m\u001b[1;33m(\u001b[0m\u001b[0mtimeout\u001b[0m\u001b[1;33m=\u001b[0m\u001b[0mtimeout\u001b[0m\u001b[1;33m)\u001b[0m\u001b[1;33m\u001b[0m\u001b[1;33m\u001b[0m\u001b[0m\n\u001b[0m\u001b[0;32m    522\u001b[0m         \u001b[1;32mexcept\u001b[0m \u001b[0mLokyTimeoutError\u001b[0m\u001b[1;33m:\u001b[0m\u001b[1;33m\u001b[0m\u001b[1;33m\u001b[0m\u001b[0m\n\u001b[0;32m    523\u001b[0m             \u001b[1;32mraise\u001b[0m \u001b[0mTimeoutError\u001b[0m\u001b[1;33m(\u001b[0m\u001b[1;33m)\u001b[0m\u001b[1;33m\u001b[0m\u001b[1;33m\u001b[0m\u001b[0m\n",
      "\u001b[1;32m~\\Anaconda3\\lib\\concurrent\\futures\\_base.py\u001b[0m in \u001b[0;36mresult\u001b[1;34m(self, timeout)\u001b[0m\n\u001b[0;32m    425\u001b[0m                 \u001b[1;32mreturn\u001b[0m \u001b[0mself\u001b[0m\u001b[1;33m.\u001b[0m\u001b[0m__get_result\u001b[0m\u001b[1;33m(\u001b[0m\u001b[1;33m)\u001b[0m\u001b[1;33m\u001b[0m\u001b[1;33m\u001b[0m\u001b[0m\n\u001b[0;32m    426\u001b[0m \u001b[1;33m\u001b[0m\u001b[0m\n\u001b[1;32m--> 427\u001b[1;33m             \u001b[0mself\u001b[0m\u001b[1;33m.\u001b[0m\u001b[0m_condition\u001b[0m\u001b[1;33m.\u001b[0m\u001b[0mwait\u001b[0m\u001b[1;33m(\u001b[0m\u001b[0mtimeout\u001b[0m\u001b[1;33m)\u001b[0m\u001b[1;33m\u001b[0m\u001b[1;33m\u001b[0m\u001b[0m\n\u001b[0m\u001b[0;32m    428\u001b[0m \u001b[1;33m\u001b[0m\u001b[0m\n\u001b[0;32m    429\u001b[0m             \u001b[1;32mif\u001b[0m \u001b[0mself\u001b[0m\u001b[1;33m.\u001b[0m\u001b[0m_state\u001b[0m \u001b[1;32min\u001b[0m \u001b[1;33m[\u001b[0m\u001b[0mCANCELLED\u001b[0m\u001b[1;33m,\u001b[0m \u001b[0mCANCELLED_AND_NOTIFIED\u001b[0m\u001b[1;33m]\u001b[0m\u001b[1;33m:\u001b[0m\u001b[1;33m\u001b[0m\u001b[1;33m\u001b[0m\u001b[0m\n",
      "\u001b[1;32m~\\Anaconda3\\lib\\threading.py\u001b[0m in \u001b[0;36mwait\u001b[1;34m(self, timeout)\u001b[0m\n\u001b[0;32m    294\u001b[0m         \u001b[1;32mtry\u001b[0m\u001b[1;33m:\u001b[0m    \u001b[1;31m# restore state no matter what (e.g., KeyboardInterrupt)\u001b[0m\u001b[1;33m\u001b[0m\u001b[1;33m\u001b[0m\u001b[0m\n\u001b[0;32m    295\u001b[0m             \u001b[1;32mif\u001b[0m \u001b[0mtimeout\u001b[0m \u001b[1;32mis\u001b[0m \u001b[1;32mNone\u001b[0m\u001b[1;33m:\u001b[0m\u001b[1;33m\u001b[0m\u001b[1;33m\u001b[0m\u001b[0m\n\u001b[1;32m--> 296\u001b[1;33m                 \u001b[0mwaiter\u001b[0m\u001b[1;33m.\u001b[0m\u001b[0macquire\u001b[0m\u001b[1;33m(\u001b[0m\u001b[1;33m)\u001b[0m\u001b[1;33m\u001b[0m\u001b[1;33m\u001b[0m\u001b[0m\n\u001b[0m\u001b[0;32m    297\u001b[0m                 \u001b[0mgotit\u001b[0m \u001b[1;33m=\u001b[0m \u001b[1;32mTrue\u001b[0m\u001b[1;33m\u001b[0m\u001b[1;33m\u001b[0m\u001b[0m\n\u001b[0;32m    298\u001b[0m             \u001b[1;32melse\u001b[0m\u001b[1;33m:\u001b[0m\u001b[1;33m\u001b[0m\u001b[1;33m\u001b[0m\u001b[0m\n",
      "\u001b[1;31mKeyboardInterrupt\u001b[0m: "
     ]
    }
   ],
   "source": [
    "from sklearn.ensemble import RandomForestRegressor\n",
    "\n",
    "n_estimators_grid = np.array([100, 200, 300, 500, 700, 1000]) # [100, 300, 500, 800, 1000] \n",
    "max_depth_grid = np.array([5, 15, 25, 40]) # [5, 15, 25, 35]\n",
    "max_leaf_nodes_grid = np.array([10, 20, 30, 40, 50, 60]) # [10, 20, 30, 40, 50, 60]\n",
    "max_features_grid = np.array([\"sqrt\"]) # [\"sqrt\", \"log2\"]\n",
    "min_samples_split = np.array([5, 10, 15, 20])\n",
    "verbose = [1]\n",
    "random_state = [0]\n",
    "\n",
    "\n",
    "param_grid = {\"n_estimators\":n_estimators_grid, \n",
    "              \"max_depth\" : max_depth_grid,\n",
    "              \"max_leaf_nodes\" : max_leaf_nodes_grid,\n",
    "              \"max_features\" : max_features_grid,\n",
    "              \"min_samples_split\": min_samples_split,\n",
    "              \"verbose\" : verbose,\n",
    "              \"random_state\" : random_state}\n",
    "\n",
    "rf = RandomForestRegressor(random_state = 0)\n",
    "\n",
    "rf_cv = GridSearchCV(rf, param_grid = param_grid, n_jobs = 2, cv = 5)\n",
    "\n",
    "rf_cv.fit(X, y)\n",
    "pred_rf = rf_cv.predict(X)\n",
    "\n",
    "print(np.sqrt(mean_squared_log_error(y, pred_rf)))"
   ]
  },
  {
   "cell_type": "markdown",
   "metadata": {},
   "source": [
    "## 4. Gradient Boosting (training)"
   ]
  },
  {
   "cell_type": "code",
   "execution_count": 127,
   "metadata": {},
   "outputs": [
    {
     "data": {
      "text/plain": [
       "{'learning_rate': 0.3,\n",
       " 'loss': 'huber',\n",
       " 'max_depth': 5,\n",
       " 'max_features': 'sqrt',\n",
       " 'n_estimators': 300}"
      ]
     },
     "execution_count": 127,
     "metadata": {},
     "output_type": "execute_result"
    }
   ],
   "source": [
    "gb_cv.best_params_"
   ]
  },
  {
   "cell_type": "code",
   "execution_count": 1133,
   "metadata": {},
   "outputs": [
    {
     "name": "stdout",
     "output_type": "stream",
     "text": [
      "0.15961988318494452\n"
     ]
    }
   ],
   "source": [
    "from sklearn.ensemble import GradientBoostingRegressor\n",
    "\n",
    "n_estimators_grid = np.array([100, 200, 300, 400, 500, 600, 700, 800, 1000]) # , 500, 800, 1000\n",
    "learning_rate_grid = np.array([0.3, 0.5, 0.7, 1]) #  0.5,  0.7, 1\n",
    "max_depth_grid = np.array([5, 10, 20])  # 10 , 20\n",
    "max_features_grid = np.array([\"sqrt\"])\n",
    "loss_grid = np.array(['huber'])\n",
    "\n",
    "# \"min_simples_leaf\" : min_samples_leaf_grid,\n",
    "\n",
    "param_grid = {\"n_estimators\":n_estimators_grid, \n",
    "              \"learning_rate\" : learning_rate_grid,\n",
    "              \"max_depth\" : max_depth_grid,\n",
    "              \"max_features\" : max_features_grid,\n",
    "              \"loss\" :  loss_grid \n",
    "             }\n",
    "\n",
    "gbr = GradientBoostingRegressor( random_state = 0 )\n",
    "\n",
    "gb_cv = GridSearchCV(gbr, param_grid = param_grid, n_jobs = 2, cv = 5)\n",
    "gb_cv.fit(train_dropped_EN, yr)\n",
    "\n",
    "pred_gbr = gb_cv.predict(train_dropped_EN)\n",
    "print(np.sqrt(mean_squared_log_error(y, pred_gbr)))"
   ]
  },
  {
   "cell_type": "markdown",
   "metadata": {},
   "source": [
    "# Stacking (training)"
   ]
  },
  {
   "cell_type": "markdown",
   "metadata": {},
   "source": [
    "### Stacking (mlxtend)"
   ]
  },
  {
   "cell_type": "code",
   "execution_count": 1154,
   "metadata": {
    "scrolled": true
   },
   "outputs": [
    {
     "name": "stdout",
     "output_type": "stream",
     "text": [
      "0.16094646553411665\n"
     ]
    }
   ],
   "source": [
    "from mlxtend.regressor import StackingRegressor\n",
    "\n",
    "# Initializing models\n",
    "\n",
    "regressors = [lasso_gs_cv, ridge_gs_cv, rf_cv, gb_cv]\n",
    "reg_meta = Lasso(random_state = 0)\n",
    "\n",
    "reg_stack = StackingRegressor(regressors=regressors, \n",
    "                               meta_regressor = reg_meta)\n",
    "\n",
    "\n",
    "reg_stack.fit(X_subtr,y_subtr)\n",
    "\n",
    "pred_stack_cv = reg_stack.predict(X_val)\n",
    "\n",
    "print(np.sqrt(mean_squared_log_error(y_val, pred_stack_cv)))"
   ]
  },
  {
   "cell_type": "markdown",
   "metadata": {},
   "source": [
    "# For Kaggle Submission : Train on the whole Training set"
   ]
  },
  {
   "cell_type": "code",
   "execution_count": null,
   "metadata": {},
   "outputs": [],
   "source": [
    "X = train_cleaned\n",
    "X_test = test_cleaned \n",
    "\n",
    "y = train['SalePrice']   \n",
    "y = y.drop(y.index[[523,1298]])\n",
    "y = y.reset_index()\n",
    "y = y.drop(columns = 'Id')"
   ]
  },
  {
   "cell_type": "markdown",
   "metadata": {},
   "source": [
    "### Lasso"
   ]
  },
  {
   "cell_type": "code",
   "execution_count": 1454,
   "metadata": {},
   "outputs": [],
   "source": [
    "from sklearn.linear_model import Lasso\n",
    "\n",
    "alpha_space = np.array([7])\n",
    "param_grid = {'alpha': alpha_space}\n",
    "\n",
    "lasso = Lasso(normalize=False)\n",
    "lasso_gs_cv_kag = GridSearchCV(lasso, param_grid=param_grid, n_jobs = 2, cv = 10) \n",
    "\n",
    "lasso_gs_cv_kag.fit(X, y) \n",
    "\n",
    "pred_lasso_kag = lasso_gs_cv_kag.predict(X_test) "
   ]
  },
  {
   "cell_type": "code",
   "execution_count": null,
   "metadata": {},
   "outputs": [],
   "source": [
    "data_lasso = { 'Id': range(1461, 2920), 'SalePrice' : pred_lasso_kag } \n",
    "y_submission_lasso = pd.DataFrame(data_lasso, index = range(1, 1460))\n",
    "\n",
    "y_submission_lasso.to_csv(r'C:/Users/jgwak/OneDrive/Desktop/machinelearning_project/lasso.csv')"
   ]
  },
  {
   "cell_type": "markdown",
   "metadata": {},
   "source": [
    "### Ridge"
   ]
  },
  {
   "cell_type": "code",
   "execution_count": 1455,
   "metadata": {},
   "outputs": [],
   "source": [
    "from sklearn.linear_model import Ridge\n",
    "\n",
    "alpha_space = np.array([4])\n",
    "param_grid = {'alpha': alpha_space}\n",
    "\n",
    "ridge = Ridge(normalize=False)\n",
    "ridge_gs_cv_kag = GridSearchCV(ridge, param_grid=param_grid, n_jobs = 2, cv = 10) \n",
    "\n",
    "ridge_gs_cv_kag.fit(X, y)   \n",
    "pred_ridge_kag = ridge_gs_cv_kag.predict(X_test)    "
   ]
  },
  {
   "cell_type": "code",
   "execution_count": null,
   "metadata": {},
   "outputs": [],
   "source": [
    "data_ridge = { 'Id': range(1461, 2920), 'SalePrice' : pred_ridge_kag } \n",
    "y_submission_ridge = pd.DataFrame(data_ridge, index = range(1, 1460))\n",
    "\n",
    "y_submission_ridge.to_csv(r'C:/Users/jgwak/OneDrive/Desktop/machinelearning_project/ridge.csv')"
   ]
  },
  {
   "cell_type": "markdown",
   "metadata": {},
   "source": [
    "### Random Forest"
   ]
  },
  {
   "cell_type": "code",
   "execution_count": 1475,
   "metadata": {},
   "outputs": [
    {
     "ename": "KeyboardInterrupt",
     "evalue": "",
     "output_type": "error",
     "traceback": [
      "\u001b[1;31m---------------------------------------------------------------------------\u001b[0m",
      "\u001b[1;31mKeyboardInterrupt\u001b[0m                         Traceback (most recent call last)",
      "\u001b[1;32m<ipython-input-1475-886dcc7af17e>\u001b[0m in \u001b[0;36m<module>\u001b[1;34m\u001b[0m\n\u001b[0;32m     17\u001b[0m \u001b[0mrf_cv_kag\u001b[0m \u001b[1;33m=\u001b[0m \u001b[0mGridSearchCV\u001b[0m\u001b[1;33m(\u001b[0m\u001b[0mrf\u001b[0m\u001b[1;33m,\u001b[0m \u001b[0mparam_grid\u001b[0m \u001b[1;33m=\u001b[0m \u001b[0mparam_grid\u001b[0m\u001b[1;33m,\u001b[0m \u001b[0mn_jobs\u001b[0m \u001b[1;33m=\u001b[0m \u001b[1;36m2\u001b[0m\u001b[1;33m,\u001b[0m \u001b[0mcv\u001b[0m \u001b[1;33m=\u001b[0m \u001b[1;36m5\u001b[0m\u001b[1;33m)\u001b[0m\u001b[1;33m\u001b[0m\u001b[1;33m\u001b[0m\u001b[0m\n\u001b[0;32m     18\u001b[0m \u001b[1;33m\u001b[0m\u001b[0m\n\u001b[1;32m---> 19\u001b[1;33m \u001b[0mrf_cv_kag\u001b[0m\u001b[1;33m.\u001b[0m\u001b[0mfit\u001b[0m\u001b[1;33m(\u001b[0m\u001b[0mX\u001b[0m\u001b[1;33m,\u001b[0m \u001b[0my\u001b[0m\u001b[1;33m)\u001b[0m\u001b[1;33m\u001b[0m\u001b[1;33m\u001b[0m\u001b[0m\n\u001b[0m\u001b[0;32m     20\u001b[0m \u001b[0mpred_rf_kag\u001b[0m \u001b[1;33m=\u001b[0m \u001b[0mrf_cv_kag\u001b[0m\u001b[1;33m.\u001b[0m\u001b[0mpredict\u001b[0m\u001b[1;33m(\u001b[0m\u001b[0mX_test\u001b[0m\u001b[1;33m)\u001b[0m\u001b[1;33m\u001b[0m\u001b[1;33m\u001b[0m\u001b[0m\n",
      "\u001b[1;32m~\\Anaconda3\\lib\\site-packages\\sklearn\\model_selection\\_search.py\u001b[0m in \u001b[0;36mfit\u001b[1;34m(self, X, y, groups, **fit_params)\u001b[0m\n\u001b[0;32m    720\u001b[0m                 \u001b[1;32mreturn\u001b[0m \u001b[0mresults_container\u001b[0m\u001b[1;33m[\u001b[0m\u001b[1;36m0\u001b[0m\u001b[1;33m]\u001b[0m\u001b[1;33m\u001b[0m\u001b[1;33m\u001b[0m\u001b[0m\n\u001b[0;32m    721\u001b[0m \u001b[1;33m\u001b[0m\u001b[0m\n\u001b[1;32m--> 722\u001b[1;33m             \u001b[0mself\u001b[0m\u001b[1;33m.\u001b[0m\u001b[0m_run_search\u001b[0m\u001b[1;33m(\u001b[0m\u001b[0mevaluate_candidates\u001b[0m\u001b[1;33m)\u001b[0m\u001b[1;33m\u001b[0m\u001b[1;33m\u001b[0m\u001b[0m\n\u001b[0m\u001b[0;32m    723\u001b[0m \u001b[1;33m\u001b[0m\u001b[0m\n\u001b[0;32m    724\u001b[0m         \u001b[0mresults\u001b[0m \u001b[1;33m=\u001b[0m \u001b[0mresults_container\u001b[0m\u001b[1;33m[\u001b[0m\u001b[1;36m0\u001b[0m\u001b[1;33m]\u001b[0m\u001b[1;33m\u001b[0m\u001b[1;33m\u001b[0m\u001b[0m\n",
      "\u001b[1;32m~\\Anaconda3\\lib\\site-packages\\sklearn\\model_selection\\_search.py\u001b[0m in \u001b[0;36m_run_search\u001b[1;34m(self, evaluate_candidates)\u001b[0m\n\u001b[0;32m   1189\u001b[0m     \u001b[1;32mdef\u001b[0m \u001b[0m_run_search\u001b[0m\u001b[1;33m(\u001b[0m\u001b[0mself\u001b[0m\u001b[1;33m,\u001b[0m \u001b[0mevaluate_candidates\u001b[0m\u001b[1;33m)\u001b[0m\u001b[1;33m:\u001b[0m\u001b[1;33m\u001b[0m\u001b[1;33m\u001b[0m\u001b[0m\n\u001b[0;32m   1190\u001b[0m         \u001b[1;34m\"\"\"Search all candidates in param_grid\"\"\"\u001b[0m\u001b[1;33m\u001b[0m\u001b[1;33m\u001b[0m\u001b[0m\n\u001b[1;32m-> 1191\u001b[1;33m         \u001b[0mevaluate_candidates\u001b[0m\u001b[1;33m(\u001b[0m\u001b[0mParameterGrid\u001b[0m\u001b[1;33m(\u001b[0m\u001b[0mself\u001b[0m\u001b[1;33m.\u001b[0m\u001b[0mparam_grid\u001b[0m\u001b[1;33m)\u001b[0m\u001b[1;33m)\u001b[0m\u001b[1;33m\u001b[0m\u001b[1;33m\u001b[0m\u001b[0m\n\u001b[0m\u001b[0;32m   1192\u001b[0m \u001b[1;33m\u001b[0m\u001b[0m\n\u001b[0;32m   1193\u001b[0m \u001b[1;33m\u001b[0m\u001b[0m\n",
      "\u001b[1;32m~\\Anaconda3\\lib\\site-packages\\sklearn\\model_selection\\_search.py\u001b[0m in \u001b[0;36mevaluate_candidates\u001b[1;34m(candidate_params)\u001b[0m\n\u001b[0;32m    709\u001b[0m                                \u001b[1;32mfor\u001b[0m \u001b[0mparameters\u001b[0m\u001b[1;33m,\u001b[0m \u001b[1;33m(\u001b[0m\u001b[0mtrain\u001b[0m\u001b[1;33m,\u001b[0m \u001b[0mtest\u001b[0m\u001b[1;33m)\u001b[0m\u001b[1;33m\u001b[0m\u001b[1;33m\u001b[0m\u001b[0m\n\u001b[0;32m    710\u001b[0m                                in product(candidate_params,\n\u001b[1;32m--> 711\u001b[1;33m                                           cv.split(X, y, groups)))\n\u001b[0m\u001b[0;32m    712\u001b[0m \u001b[1;33m\u001b[0m\u001b[0m\n\u001b[0;32m    713\u001b[0m                 \u001b[0mall_candidate_params\u001b[0m\u001b[1;33m.\u001b[0m\u001b[0mextend\u001b[0m\u001b[1;33m(\u001b[0m\u001b[0mcandidate_params\u001b[0m\u001b[1;33m)\u001b[0m\u001b[1;33m\u001b[0m\u001b[1;33m\u001b[0m\u001b[0m\n",
      "\u001b[1;32m~\\Anaconda3\\lib\\site-packages\\sklearn\\externals\\joblib\\parallel.py\u001b[0m in \u001b[0;36m__call__\u001b[1;34m(self, iterable)\u001b[0m\n\u001b[0;32m    928\u001b[0m \u001b[1;33m\u001b[0m\u001b[0m\n\u001b[0;32m    929\u001b[0m             \u001b[1;32mwith\u001b[0m \u001b[0mself\u001b[0m\u001b[1;33m.\u001b[0m\u001b[0m_backend\u001b[0m\u001b[1;33m.\u001b[0m\u001b[0mretrieval_context\u001b[0m\u001b[1;33m(\u001b[0m\u001b[1;33m)\u001b[0m\u001b[1;33m:\u001b[0m\u001b[1;33m\u001b[0m\u001b[1;33m\u001b[0m\u001b[0m\n\u001b[1;32m--> 930\u001b[1;33m                 \u001b[0mself\u001b[0m\u001b[1;33m.\u001b[0m\u001b[0mretrieve\u001b[0m\u001b[1;33m(\u001b[0m\u001b[1;33m)\u001b[0m\u001b[1;33m\u001b[0m\u001b[1;33m\u001b[0m\u001b[0m\n\u001b[0m\u001b[0;32m    931\u001b[0m             \u001b[1;31m# Make sure that we get a last message telling us we are done\u001b[0m\u001b[1;33m\u001b[0m\u001b[1;33m\u001b[0m\u001b[1;33m\u001b[0m\u001b[0m\n\u001b[0;32m    932\u001b[0m             \u001b[0melapsed_time\u001b[0m \u001b[1;33m=\u001b[0m \u001b[0mtime\u001b[0m\u001b[1;33m.\u001b[0m\u001b[0mtime\u001b[0m\u001b[1;33m(\u001b[0m\u001b[1;33m)\u001b[0m \u001b[1;33m-\u001b[0m \u001b[0mself\u001b[0m\u001b[1;33m.\u001b[0m\u001b[0m_start_time\u001b[0m\u001b[1;33m\u001b[0m\u001b[1;33m\u001b[0m\u001b[0m\n",
      "\u001b[1;32m~\\Anaconda3\\lib\\site-packages\\sklearn\\externals\\joblib\\parallel.py\u001b[0m in \u001b[0;36mretrieve\u001b[1;34m(self)\u001b[0m\n\u001b[0;32m    831\u001b[0m             \u001b[1;32mtry\u001b[0m\u001b[1;33m:\u001b[0m\u001b[1;33m\u001b[0m\u001b[1;33m\u001b[0m\u001b[0m\n\u001b[0;32m    832\u001b[0m                 \u001b[1;32mif\u001b[0m \u001b[0mgetattr\u001b[0m\u001b[1;33m(\u001b[0m\u001b[0mself\u001b[0m\u001b[1;33m.\u001b[0m\u001b[0m_backend\u001b[0m\u001b[1;33m,\u001b[0m \u001b[1;34m'supports_timeout'\u001b[0m\u001b[1;33m,\u001b[0m \u001b[1;32mFalse\u001b[0m\u001b[1;33m)\u001b[0m\u001b[1;33m:\u001b[0m\u001b[1;33m\u001b[0m\u001b[1;33m\u001b[0m\u001b[0m\n\u001b[1;32m--> 833\u001b[1;33m                     \u001b[0mself\u001b[0m\u001b[1;33m.\u001b[0m\u001b[0m_output\u001b[0m\u001b[1;33m.\u001b[0m\u001b[0mextend\u001b[0m\u001b[1;33m(\u001b[0m\u001b[0mjob\u001b[0m\u001b[1;33m.\u001b[0m\u001b[0mget\u001b[0m\u001b[1;33m(\u001b[0m\u001b[0mtimeout\u001b[0m\u001b[1;33m=\u001b[0m\u001b[0mself\u001b[0m\u001b[1;33m.\u001b[0m\u001b[0mtimeout\u001b[0m\u001b[1;33m)\u001b[0m\u001b[1;33m)\u001b[0m\u001b[1;33m\u001b[0m\u001b[1;33m\u001b[0m\u001b[0m\n\u001b[0m\u001b[0;32m    834\u001b[0m                 \u001b[1;32melse\u001b[0m\u001b[1;33m:\u001b[0m\u001b[1;33m\u001b[0m\u001b[1;33m\u001b[0m\u001b[0m\n\u001b[0;32m    835\u001b[0m                     \u001b[0mself\u001b[0m\u001b[1;33m.\u001b[0m\u001b[0m_output\u001b[0m\u001b[1;33m.\u001b[0m\u001b[0mextend\u001b[0m\u001b[1;33m(\u001b[0m\u001b[0mjob\u001b[0m\u001b[1;33m.\u001b[0m\u001b[0mget\u001b[0m\u001b[1;33m(\u001b[0m\u001b[1;33m)\u001b[0m\u001b[1;33m)\u001b[0m\u001b[1;33m\u001b[0m\u001b[1;33m\u001b[0m\u001b[0m\n",
      "\u001b[1;32m~\\Anaconda3\\lib\\site-packages\\sklearn\\externals\\joblib\\_parallel_backends.py\u001b[0m in \u001b[0;36mwrap_future_result\u001b[1;34m(future, timeout)\u001b[0m\n\u001b[0;32m    519\u001b[0m         AsyncResults.get from multiprocessing.\"\"\"\n\u001b[0;32m    520\u001b[0m         \u001b[1;32mtry\u001b[0m\u001b[1;33m:\u001b[0m\u001b[1;33m\u001b[0m\u001b[1;33m\u001b[0m\u001b[0m\n\u001b[1;32m--> 521\u001b[1;33m             \u001b[1;32mreturn\u001b[0m \u001b[0mfuture\u001b[0m\u001b[1;33m.\u001b[0m\u001b[0mresult\u001b[0m\u001b[1;33m(\u001b[0m\u001b[0mtimeout\u001b[0m\u001b[1;33m=\u001b[0m\u001b[0mtimeout\u001b[0m\u001b[1;33m)\u001b[0m\u001b[1;33m\u001b[0m\u001b[1;33m\u001b[0m\u001b[0m\n\u001b[0m\u001b[0;32m    522\u001b[0m         \u001b[1;32mexcept\u001b[0m \u001b[0mLokyTimeoutError\u001b[0m\u001b[1;33m:\u001b[0m\u001b[1;33m\u001b[0m\u001b[1;33m\u001b[0m\u001b[0m\n\u001b[0;32m    523\u001b[0m             \u001b[1;32mraise\u001b[0m \u001b[0mTimeoutError\u001b[0m\u001b[1;33m(\u001b[0m\u001b[1;33m)\u001b[0m\u001b[1;33m\u001b[0m\u001b[1;33m\u001b[0m\u001b[0m\n",
      "\u001b[1;32m~\\Anaconda3\\lib\\concurrent\\futures\\_base.py\u001b[0m in \u001b[0;36mresult\u001b[1;34m(self, timeout)\u001b[0m\n\u001b[0;32m    425\u001b[0m                 \u001b[1;32mreturn\u001b[0m \u001b[0mself\u001b[0m\u001b[1;33m.\u001b[0m\u001b[0m__get_result\u001b[0m\u001b[1;33m(\u001b[0m\u001b[1;33m)\u001b[0m\u001b[1;33m\u001b[0m\u001b[1;33m\u001b[0m\u001b[0m\n\u001b[0;32m    426\u001b[0m \u001b[1;33m\u001b[0m\u001b[0m\n\u001b[1;32m--> 427\u001b[1;33m             \u001b[0mself\u001b[0m\u001b[1;33m.\u001b[0m\u001b[0m_condition\u001b[0m\u001b[1;33m.\u001b[0m\u001b[0mwait\u001b[0m\u001b[1;33m(\u001b[0m\u001b[0mtimeout\u001b[0m\u001b[1;33m)\u001b[0m\u001b[1;33m\u001b[0m\u001b[1;33m\u001b[0m\u001b[0m\n\u001b[0m\u001b[0;32m    428\u001b[0m \u001b[1;33m\u001b[0m\u001b[0m\n\u001b[0;32m    429\u001b[0m             \u001b[1;32mif\u001b[0m \u001b[0mself\u001b[0m\u001b[1;33m.\u001b[0m\u001b[0m_state\u001b[0m \u001b[1;32min\u001b[0m \u001b[1;33m[\u001b[0m\u001b[0mCANCELLED\u001b[0m\u001b[1;33m,\u001b[0m \u001b[0mCANCELLED_AND_NOTIFIED\u001b[0m\u001b[1;33m]\u001b[0m\u001b[1;33m:\u001b[0m\u001b[1;33m\u001b[0m\u001b[1;33m\u001b[0m\u001b[0m\n",
      "\u001b[1;32m~\\Anaconda3\\lib\\threading.py\u001b[0m in \u001b[0;36mwait\u001b[1;34m(self, timeout)\u001b[0m\n\u001b[0;32m    294\u001b[0m         \u001b[1;32mtry\u001b[0m\u001b[1;33m:\u001b[0m    \u001b[1;31m# restore state no matter what (e.g., KeyboardInterrupt)\u001b[0m\u001b[1;33m\u001b[0m\u001b[1;33m\u001b[0m\u001b[0m\n\u001b[0;32m    295\u001b[0m             \u001b[1;32mif\u001b[0m \u001b[0mtimeout\u001b[0m \u001b[1;32mis\u001b[0m \u001b[1;32mNone\u001b[0m\u001b[1;33m:\u001b[0m\u001b[1;33m\u001b[0m\u001b[1;33m\u001b[0m\u001b[0m\n\u001b[1;32m--> 296\u001b[1;33m                 \u001b[0mwaiter\u001b[0m\u001b[1;33m.\u001b[0m\u001b[0macquire\u001b[0m\u001b[1;33m(\u001b[0m\u001b[1;33m)\u001b[0m\u001b[1;33m\u001b[0m\u001b[1;33m\u001b[0m\u001b[0m\n\u001b[0m\u001b[0;32m    297\u001b[0m                 \u001b[0mgotit\u001b[0m \u001b[1;33m=\u001b[0m \u001b[1;32mTrue\u001b[0m\u001b[1;33m\u001b[0m\u001b[1;33m\u001b[0m\u001b[0m\n\u001b[0;32m    298\u001b[0m             \u001b[1;32melse\u001b[0m\u001b[1;33m:\u001b[0m\u001b[1;33m\u001b[0m\u001b[1;33m\u001b[0m\u001b[0m\n",
      "\u001b[1;31mKeyboardInterrupt\u001b[0m: "
     ]
    }
   ],
   "source": [
    "from sklearn.ensemble import RandomForestRegressor\n",
    "\n",
    "n_estimators_grid = np.array([100, 300, 500]) # [100, 300, 500, 800, 1000] \n",
    "max_depth_grid = np.array([5, 15, 35]) # [5, 15, 25, 35]\n",
    "max_leaf_nodes_grid = np.array([10, 20, 30]) # [10, 20, 30, 40, 50, 60]\n",
    "max_features_grid = np.array([\"sqrt\"]) # [\"sqrt\", \"log2\"]\n",
    "min_samples_split = np.array([10, 30])\n",
    "\n",
    "param_grid = {\"n_estimators\":n_estimators_grid, \n",
    "              \"max_depth\" : max_depth_grid,\n",
    "              \"max_leaf_nodes\" : max_leaf_nodes_grid,\n",
    "              \"max_features\" : max_features_grid,\n",
    "              \"min_samples_split\" : min_samples_split}\n",
    "\n",
    "rf = RandomForestRegressor(random_state = 0)\n",
    "\n",
    "rf_cv_kag = GridSearchCV(rf, param_grid = param_grid, n_jobs = 2, cv = 5)\n",
    "\n",
    "rf_cv_kag.fit(X, y)\n",
    "pred_rf_kag = rf_cv_kag.predict(X_test)"
   ]
  },
  {
   "cell_type": "code",
   "execution_count": 1473,
   "metadata": {},
   "outputs": [],
   "source": [
    "data_rf = { 'Id': range(1461, 2920), 'SalePrice' : pred_rf_kag } \n",
    "y_submission_rf = pd.DataFrame(data_rf, index = range(1, 1460))\n",
    "\n",
    "y_submission_rf.to_csv(r'C:/Users/jgwak/OneDrive/Desktop/machinelearning_project/randomforest.csv')"
   ]
  },
  {
   "cell_type": "markdown",
   "metadata": {},
   "source": [
    "### Gradient Boosting"
   ]
  },
  {
   "cell_type": "code",
   "execution_count": 1478,
   "metadata": {},
   "outputs": [],
   "source": [
    "from sklearn.ensemble import GradientBoostingRegressor\n",
    "\n",
    "n_estimators_grid = np.array([100, 300, 500, 1000]) # , 500, 800, 1000\n",
    "learning_rate_grid = np.array([0.1, 0.3, 0.5, 0.7]) #  0.5,  0.7, 1\n",
    "max_depth_grid = np.array([3, 5, 10, 20])  # 10 , 20\n",
    "max_features_grid = np.array([\"sqrt\"])\n",
    "loss_grid = np.array(['huber'])\n",
    "alphas = np.array([0.01, 0.1, 0.3, 0.5 ])\n",
    "min_splits = np.array([3, 10, 15])\n",
    "# \"min_simples_leaf\" : min_samples_leaf_grid,\n",
    "\n",
    "param_grid = {\"n_estimators\":n_estimators_grid, \n",
    "              \"learning_rate\" : learning_rate_grid,\n",
    "              \"max_depth\" : max_depth_grid,\n",
    "              \"max_features\" : max_features_grid,\n",
    "              \"loss\" :  loss_grid, \n",
    "              \"min_samples_split\" : min_splits\n",
    "             }\n",
    "\n",
    "gbr = GradientBoostingRegressor( random_state = 0 )\n",
    "\n",
    "gb_cv_kag = GridSearchCV(gbr, param_grid = param_grid, n_jobs = 2, cv = 5)\n",
    "gb_cv_kag.fit(X, y)\n",
    "\n",
    "pred_gbr_kag = gb_cv_kag.predict(X_test)\n",
    "\n"
   ]
  },
  {
   "cell_type": "code",
   "execution_count": 1479,
   "metadata": {},
   "outputs": [],
   "source": [
    "data_graboost = { 'Id': range(1461, 2920), 'SalePrice' : pred_gbr_kag } \n",
    "y_submission_graboost = pd.DataFrame(data_graboost, index = range(1, 1460))\n",
    "\n",
    "y_submission_graboost.to_csv(r'C:/Users/jgwak/OneDrive/Desktop/machinelearning_project/gradientboosting2.csv')"
   ]
  },
  {
   "cell_type": "markdown",
   "metadata": {},
   "source": [
    "## Stacking for Kaggle Submission\n"
   ]
  },
  {
   "cell_type": "code",
   "execution_count": 1476,
   "metadata": {},
   "outputs": [],
   "source": [
    "from mlxtend.regressor import StackingRegressor\n",
    "\n",
    "# Initializing models\n",
    "\n",
    "regressors = [lasso_gs_cv_kag, ridge_gs_cv_kag, rf_cv_kag, gb_cv_kag]\n",
    "reg_meta = Lasso(random_state = 0)\n",
    "\n",
    "reg_stack_kag = StackingRegressor(regressors=regressors, \n",
    "                           meta_regressor = reg_meta)\n",
    "\n",
    "# o = pd.concat([rf_pred, boost_pred, lasso_pred, ridge_pred])\n",
    "\n",
    "\n",
    "reg_stack_kag.fit(X,y)\n",
    "\n",
    "pred_stack_cv_kag = reg_stack_kag.predict(X_test)"
   ]
  },
  {
   "cell_type": "code",
   "execution_count": 1477,
   "metadata": {},
   "outputs": [],
   "source": [
    "\n",
    "data_stack = { 'Id': range(1461, 2920), 'SalePrice' : pred_stack_cv_kag } \n",
    "y_submission_stack = pd.DataFrame(data2, index = range(1, 1460))\n",
    "\n",
    "y_submission_stack.to_csv(r'C:/Users/jgwak/OneDrive/Desktop/machinelearning_project/stacking.csv')"
   ]
  }
 ],
 "metadata": {
  "hide_input": false,
  "kernelspec": {
   "display_name": "Python 3",
   "language": "python",
   "name": "python3"
  },
  "language_info": {
   "codemirror_mode": {
    "name": "ipython",
    "version": 3
   },
   "file_extension": ".py",
   "mimetype": "text/x-python",
   "name": "python",
   "nbconvert_exporter": "python",
   "pygments_lexer": "ipython3",
   "version": "3.7.3"
  }
 },
 "nbformat": 4,
 "nbformat_minor": 1
}
